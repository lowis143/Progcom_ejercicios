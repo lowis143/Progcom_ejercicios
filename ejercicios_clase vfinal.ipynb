{
  "nbformat": 4,
  "nbformat_minor": 0,
  "metadata": {
    "colab": {
      "name": "ejercicios clase ",
      "provenance": [],
      "collapsed_sections": [
        "u5EWuqpdqkas",
        "rkLV4LpKG6Ue",
        "WWtTghH1wkC8",
        "PVemVFd-3b76",
        "GfjvGH_DJgRD",
        "YEfTNwP8O1w0",
        "S21mvl0uPjIp"
      ]
    },
    "kernelspec": {
      "name": "python3",
      "display_name": "Python 3"
    },
    "language_info": {
      "name": "python"
    }
  },
  "cells": [
    {
      "cell_type": "markdown",
      "source": [
        "\n",
        "\n",
        "#taller 1"
      ],
      "metadata": {
        "id": "mrlSOnkEqYhw"
      }
    },
    {
      "cell_type": "markdown",
      "source": [
        "##ejercicio 1  completo"
      ],
      "metadata": {
        "id": "u5EWuqpdqkas"
      }
    },
    {
      "cell_type": "code",
      "source": [
        "n=int(input(\"ponga el primer numero entero \"))\n",
        "n1=int(input(\"digite el segundo numero entero \"))\n",
        "nt=n/n1\n",
        "if nt == 0:\n",
        "    print(\"¡Error! No se puede dividir por 0.\")\n",
        "elif n%n1==1:\n",
        "    print(\"la división no es exacta y el residuo es:\" ,n%n1,)\n",
        "else:\n",
        "    print(\"el resultado es:\",nt)"
      ],
      "metadata": {
        "colab": {
          "base_uri": "https://localhost:8080/"
        },
        "id": "3IjSqdChuWvt",
        "outputId": "39be1a15-c7c0-46b8-ecf9-e894e43fe16a"
      },
      "execution_count": 19,
      "outputs": [
        {
          "output_type": "stream",
          "name": "stdout",
          "text": [
            "ponga el primer numero entero 0\n",
            "digite el segundo numero entero 3\n",
            "¡Error! No se puede dividir por 0.\n"
          ]
        }
      ]
    },
    {
      "cell_type": "markdown",
      "source": [
        "##Ejercicio 2 completado\n"
      ],
      "metadata": {
        "id": "rkLV4LpKG6Ue"
      }
    },
    {
      "cell_type": "code",
      "source": [
        "\n",
        "m1=int(input(\"digite el primer numero \"))\n",
        "m2=int(input(\"digite el segundo numero \"))\n",
        "if m1%m2==0:\n",
        "    print(\"Sí es múltiplo\")\n",
        "else:\n",
        "    print(\"No es múltiplo\")"
      ],
      "metadata": {
        "colab": {
          "base_uri": "https://localhost:8080/"
        },
        "id": "hTB9AKndG9oX",
        "outputId": "1054806d-3973-4bb0-f02e-d0be40fee753"
      },
      "execution_count": 3,
      "outputs": [
        {
          "output_type": "stream",
          "name": "stdout",
          "text": [
            "digite el primer numero 4\n",
            "digite el segundo numero 3\n",
            "No es múltiplo\n"
          ]
        }
      ]
    },
    {
      "cell_type": "markdown",
      "source": [
        "##Ejercicio 3 (a medias)"
      ],
      "metadata": {
        "id": "rQZesSVSgcsK"
      }
    },
    {
      "cell_type": "code",
      "source": [
        "#para sacar la edad de los gemelos solo funciona con el 1 y el 2(igual), cuando se prueba con el 2 y 3 lanza como si fueran trillizos \n",
        "h1=str(input(\"digite la edad del primer hermano \"))\n",
        "h2=str(input(\"digite la edad del segundo hermano \"))\n",
        "h3=str(input(\"digite la edad del tercer hermano \"))\n",
        "\n",
        "if(h1<h2 and h2<h3):\n",
        "    print(\"\",h1,\"\",h2,\"\",h3)\n",
        "elif(h2<h1 and h1<h3):\n",
        "    print(\"\",h2,\"\",h1,\"\",h3)\n",
        "elif(h3<h1 and h1<h2):\n",
        "    print(\"\",h3,\"\",h1,\"\",h2)\n",
        "elif(h3<h2 and h2<h1):\n",
        "    print(\"\",h3,\"\",h2,\"\",h1)\n",
        "elif(h1<h3 and h3<h2):\n",
        "    print(\"\",h1,\"\",h3,\"\",h2)\n",
        "elif(h2<h3 and h3<h1):\n",
        "    print(\"\",h2,\"\",h3,\"\",h1)\n",
        "elif(h1<=h2 and h2<h3):\n",
        "    print(\"\",h1,\"\",h2,\"\",h3)\n",
        "elif(h2<=h1 and h1<h3):\n",
        "    print(\"\",h2,\"\",h1,\"\",h3)\n",
        "elif(h3<=h1 and h1<h2):\n",
        "    print(\"\",h3,\"\",h1,\"\",h2)\n",
        "elif(h3<=h2 and h2<h1):\n",
        "    print(\"\",h3,\"\",h2,\"\",h1)\n",
        "elif(h1<=h3 and h3<h2):\n",
        "    print(\"\",h1,\"\",h3,\"\",h2)\n",
        "elif(h2<=h3 and h3<h1):\n",
        "    print(\"\",h2,\"\",h3,\"\",h1)\n",
        "\n",
        "else:\n",
        "    print(\"los tres hermanos son trillizos\")"
      ],
      "metadata": {
        "colab": {
          "base_uri": "https://localhost:8080/"
        },
        "id": "6zPH0hUrgf-P",
        "outputId": "9e2dc51b-cb4b-4c7c-fcb7-03401b1cd504"
      },
      "execution_count": 69,
      "outputs": [
        {
          "output_type": "stream",
          "name": "stdout",
          "text": [
            "digite la edad del primer hermano 5\n",
            "digite la edad del segundo hermano 3\n",
            "digite la edad del tercer hermano 1\n",
            " 1  3  5\n"
          ]
        }
      ]
    },
    {
      "cell_type": "markdown",
      "source": [
        "##Ejercicio 4 completo"
      ],
      "metadata": {
        "id": "WWtTghH1wkC8"
      }
    },
    {
      "cell_type": "code",
      "source": [
        " ga=int(input(\"ingrese su patrimonio bruto del año 2021 \"))\n",
        " tg=int(input(\"ingrese sus gatos en la tarjeta de crédito \"))\n",
        " by=int(input(\"ingrese sus compras y consumos totales \"))\n",
        " cg=int(input(\"ingrese el valor acumulado de las consignaciones bancaria, depósitos o inversiones \"))\n",
        "\n",
        "if ga>=163386000:\n",
        "    print(\"debe pagar impuesto de renta\")\n",
        "elif tg>=50831000:\n",
        "    print(\"debe pagar impuesto\")\n",
        "elif by>=50831000:\n",
        "    print(\"debe pagar impuesto\")\n",
        "elif cg>=50831000:\n",
        "    print(\"debe pagar impuesto\")\n",
        "else:\n",
        "    print(\"no debe pagar impuesto\")\n"
      ],
      "metadata": {
        "colab": {
          "base_uri": "https://localhost:8080/"
        },
        "id": "nNIevUlP0YWb",
        "outputId": "480b2a81-bc15-4ba9-c6d6-adfdf5ddfd11"
      },
      "execution_count": 6,
      "outputs": [
        {
          "output_type": "stream",
          "name": "stdout",
          "text": [
            "ingrese su patrimonio bruto del año 2021 16\n",
            "ingrese sus gatos en la tarjeta de credito 15\n",
            "ingrese sus compras y consumos totales 22\n",
            "ingrese el valor acumulado de las consignaciones bancaria, depósitos o inversiones 20\n",
            "no debe pagar impuesto\n"
          ]
        }
      ]
    },
    {
      "cell_type": "markdown",
      "source": [
        "##Ejercicio 6 completo\n"
      ],
      "metadata": {
        "id": "PVemVFd-3b76"
      }
    },
    {
      "cell_type": "code",
      "source": [
        "n1=int(input(\"ingrese su primera nota \"))\n",
        "n2=int(input(\"ingrese su segunda nota \"))\n",
        "n3=int(input(\"ingrese su tercera nota \"))\n",
        "n4=int(input(\"ingrese su cuarta nota \"))\n",
        "\n",
        "p=n1+n2+n3+n4\n",
        "pt=p/4\n",
        "\n",
        "if pt>4.5:\n",
        "  print(\"queda eximido del ultimo examen, su nota final es \",pt)\n",
        "elif pt>3.5:\n",
        "  print(\"debe presentar el examen, su nota final es: \",pt)\n",
        "elif pt>3.0:\n",
        "  print(\"debe presentar el examen y presentar un trabajo, su nota final es:\",pt)\n",
        "elif pt>2.0:\n",
        "  print(\"debe presentar habilitación, su nota final es:\",pt)\n",
        "else:\n",
        "  print(\"perdió la materia irremediablemente\")\n",
        "  \n"
      ],
      "metadata": {
        "colab": {
          "base_uri": "https://localhost:8080/"
        },
        "id": "1M7EQih43j2S",
        "outputId": "c13981a3-2710-4aae-cee9-f7d74771b900"
      },
      "execution_count": null,
      "outputs": [
        {
          "output_type": "stream",
          "name": "stdout",
          "text": [
            "ingrese su primera nota 5\n",
            "ingrese su segunda nota 3\n",
            "ingrese su tercera nota 4\n",
            "ingrese su cuarta nota 3\n",
            "debe presentar el examen, su nota final es:  3.75\n"
          ]
        }
      ]
    },
    {
      "cell_type": "markdown",
      "source": [
        "##Ejercicio 8 completado\n"
      ],
      "metadata": {
        "id": "7qVwZ7QaEYW1"
      }
    },
    {
      "cell_type": "code",
      "source": [
        "año = int(input(\"elija el año que quiera revisar si es bisieto \"))\n",
        "\n",
        "if año % 4 != 0: \n",
        "\tprint(\"No es bisiesto \")\n",
        "elif año % 4 == 0 and año % 100 != 0: \n",
        "\tprint(\"Es bisiesto \")\n",
        "elif año % 4 == 0 and año % 100 == 0 and año % 400 != 0: \n",
        "\tprint(\"No es bisiesto \")\n",
        "elif año % 4 == 0 and año % 100 == 0 and año % 400 == 0: \n",
        "\tprint(\"Es bisiesto \")"
      ],
      "metadata": {
        "colab": {
          "base_uri": "https://localhost:8080/"
        },
        "id": "ttqxfUT4Eg7t",
        "outputId": "82a00e99-f2cd-4a42-c285-ac0f30d2d399"
      },
      "execution_count": 109,
      "outputs": [
        {
          "output_type": "stream",
          "name": "stdout",
          "text": [
            "elija el año que quiera revisar si es bisieto 2020\n",
            "Es bisiesto \n"
          ]
        }
      ]
    },
    {
      "cell_type": "markdown",
      "source": [
        "##Ejercicio 9"
      ],
      "metadata": {
        "id": "ZoK2QaSSE07U"
      }
    },
    {
      "cell_type": "markdown",
      "source": [
        "##ejercicio 10"
      ],
      "metadata": {
        "id": "mUhlJh63E4Qe"
      }
    },
    {
      "cell_type": "markdown",
      "source": [
        "##ejercicio 11 completado"
      ],
      "metadata": {
        "id": "KRqmte5U3CTF"
      }
    },
    {
      "cell_type": "code",
      "source": [
        "import math\n",
        "#para utilizar la raiz cuadrada debemos importar una librebria en python\n",
        "a=int(input(\"ingrese el valor de a: \"))\n",
        "b=int(input(\"ingrese el valor de b: \"))\n",
        "c=int(input(\"ingrese el valor de c: \"))\n",
        "d=(b*b)-4*a*c\n",
        "if d<0: \n",
        "  print(\"no existen soluciones reales\")\n",
        "else: \n",
        "  x1=(-b+math.sqrt(d))/(2*a)\n",
        "  x2=(-b-math.sqrt(d))/(2*a)\n",
        "  print(\"\")\n",
        "  print(\"solución x1: \", x1)\n",
        "  print(\"solución x2: \", x2)\n"
      ],
      "metadata": {
        "colab": {
          "base_uri": "https://localhost:8080/"
        },
        "id": "R0sVa80F3EBV",
        "outputId": "c2828318-f8af-41d2-a2d7-d3c00cbea157"
      },
      "execution_count": 177,
      "outputs": [
        {
          "output_type": "stream",
          "name": "stdout",
          "text": [
            "ingrese el valor de a: 10\n",
            "ingrese el valor de b: 20\n",
            "ingrese el valor de c: 5\n",
            "\n",
            "solución x1:  -0.2928932188134524\n",
            "solución x2:  -1.7071067811865475\n"
          ]
        }
      ]
    },
    {
      "cell_type": "markdown",
      "source": [
        "##Ejercicio 12 incompleto"
      ],
      "metadata": {
        "id": "Ds7E_-DS_p9X"
      }
    },
    {
      "cell_type": "code",
      "source": [
        "t=int(input(\"escoja la opción que necesites\\n1.suma\\n2.resta\\n3.multiplicación\\n4.división\\n \"))\n",
        "\n",
        "if t==1:\n",
        "  res = sum([random.randrange(1, 50, 1) for i in range(7)]) \n",
        "  \n",
        "  print (\"Random number summation list is : \" + str(res)) "
      ],
      "metadata": {
        "colab": {
          "base_uri": "https://localhost:8080/",
          "height": 460
        },
        "id": "KQ07HweaA7__",
        "outputId": "6664c4c4-c092-4a8e-cb05-129dbda7615e"
      },
      "execution_count": 98,
      "outputs": [
        {
          "name": "stdout",
          "output_type": "stream",
          "text": [
            "escoja la opción que necesites\n",
            "1.suma\n",
            "2.resta\n",
            "3.multiplicación\n",
            "4.división\n",
            " 1\n"
          ]
        },
        {
          "output_type": "error",
          "ename": "NameError",
          "evalue": "ignored",
          "traceback": [
            "\u001b[0;31m---------------------------------------------------------------------------\u001b[0m",
            "\u001b[0;31mNameError\u001b[0m                                 Traceback (most recent call last)",
            "\u001b[0;32m<ipython-input-98-95ec534d42ad>\u001b[0m in \u001b[0;36m<module>\u001b[0;34m()\u001b[0m\n\u001b[1;32m      2\u001b[0m \u001b[0;34m\u001b[0m\u001b[0m\n\u001b[1;32m      3\u001b[0m \u001b[0;32mif\u001b[0m \u001b[0mt\u001b[0m\u001b[0;34m==\u001b[0m\u001b[0;36m1\u001b[0m\u001b[0;34m:\u001b[0m\u001b[0;34m\u001b[0m\u001b[0;34m\u001b[0m\u001b[0m\n\u001b[0;32m----> 4\u001b[0;31m   \u001b[0mres\u001b[0m \u001b[0;34m=\u001b[0m \u001b[0msum\u001b[0m\u001b[0;34m(\u001b[0m\u001b[0;34m[\u001b[0m\u001b[0mrandom\u001b[0m\u001b[0;34m.\u001b[0m\u001b[0mrandrange\u001b[0m\u001b[0;34m(\u001b[0m\u001b[0;36m1\u001b[0m\u001b[0;34m,\u001b[0m \u001b[0;36m50\u001b[0m\u001b[0;34m,\u001b[0m \u001b[0;36m1\u001b[0m\u001b[0;34m)\u001b[0m \u001b[0;32mfor\u001b[0m \u001b[0mi\u001b[0m \u001b[0;32min\u001b[0m \u001b[0mrange\u001b[0m\u001b[0;34m(\u001b[0m\u001b[0;36m7\u001b[0m\u001b[0;34m)\u001b[0m\u001b[0;34m]\u001b[0m\u001b[0;34m)\u001b[0m\u001b[0;34m\u001b[0m\u001b[0;34m\u001b[0m\u001b[0m\n\u001b[0m\u001b[1;32m      5\u001b[0m \u001b[0;34m\u001b[0m\u001b[0m\n\u001b[1;32m      6\u001b[0m   \u001b[0mprint\u001b[0m \u001b[0;34m(\u001b[0m\u001b[0;34m\"Random number summation list is : \"\u001b[0m \u001b[0;34m+\u001b[0m \u001b[0mstr\u001b[0m\u001b[0;34m(\u001b[0m\u001b[0mres\u001b[0m\u001b[0;34m)\u001b[0m\u001b[0;34m)\u001b[0m\u001b[0;34m\u001b[0m\u001b[0;34m\u001b[0m\u001b[0m\n",
            "\u001b[0;32m<ipython-input-98-95ec534d42ad>\u001b[0m in \u001b[0;36m<listcomp>\u001b[0;34m(.0)\u001b[0m\n\u001b[1;32m      2\u001b[0m \u001b[0;34m\u001b[0m\u001b[0m\n\u001b[1;32m      3\u001b[0m \u001b[0;32mif\u001b[0m \u001b[0mt\u001b[0m\u001b[0;34m==\u001b[0m\u001b[0;36m1\u001b[0m\u001b[0;34m:\u001b[0m\u001b[0;34m\u001b[0m\u001b[0;34m\u001b[0m\u001b[0m\n\u001b[0;32m----> 4\u001b[0;31m   \u001b[0mres\u001b[0m \u001b[0;34m=\u001b[0m \u001b[0msum\u001b[0m\u001b[0;34m(\u001b[0m\u001b[0;34m[\u001b[0m\u001b[0mrandom\u001b[0m\u001b[0;34m.\u001b[0m\u001b[0mrandrange\u001b[0m\u001b[0;34m(\u001b[0m\u001b[0;36m1\u001b[0m\u001b[0;34m,\u001b[0m \u001b[0;36m50\u001b[0m\u001b[0;34m,\u001b[0m \u001b[0;36m1\u001b[0m\u001b[0;34m)\u001b[0m \u001b[0;32mfor\u001b[0m \u001b[0mi\u001b[0m \u001b[0;32min\u001b[0m \u001b[0mrange\u001b[0m\u001b[0;34m(\u001b[0m\u001b[0;36m7\u001b[0m\u001b[0;34m)\u001b[0m\u001b[0;34m]\u001b[0m\u001b[0;34m)\u001b[0m\u001b[0;34m\u001b[0m\u001b[0;34m\u001b[0m\u001b[0m\n\u001b[0m\u001b[1;32m      5\u001b[0m \u001b[0;34m\u001b[0m\u001b[0m\n\u001b[1;32m      6\u001b[0m   \u001b[0mprint\u001b[0m \u001b[0;34m(\u001b[0m\u001b[0;34m\"Random number summation list is : \"\u001b[0m \u001b[0;34m+\u001b[0m \u001b[0mstr\u001b[0m\u001b[0;34m(\u001b[0m\u001b[0mres\u001b[0m\u001b[0;34m)\u001b[0m\u001b[0;34m)\u001b[0m\u001b[0;34m\u001b[0m\u001b[0;34m\u001b[0m\u001b[0m\n",
            "\u001b[0;31mNameError\u001b[0m: name 'random' is not defined"
          ]
        }
      ]
    },
    {
      "cell_type": "markdown",
      "source": [
        "##Ejercicio 13 completado"
      ],
      "metadata": {
        "id": "URnXaoe2gjdh"
      }
    },
    {
      "cell_type": "code",
      "source": [
        "c=int(input(\"escoja la opción que necesites\\n1.cm a metros\\n2.cm a km\\n3.metros a km\\n4.km a cm\\n5.km a metros\\n\"))\n",
        "\n",
        "\n",
        "if c==1:\n",
        "    \n",
        "    centimetros=float(input(\"ingrese el valor de centimetros: \"))\n",
        "    metros=centímetros/100\n",
        "    print(\"Valor de metros: \" + repr(metros))\n",
        "elif c==2:\n",
        "     \n",
        "     centimetros=float(input(\"ingrese el valor de centimetros: \"))\n",
        "     kilómetros=centímetros/100000\n",
        "     print(\"Valor de kilómetros: \" + repr(kilómetros))\n",
        "elif c==3:\n",
        "     \n",
        "     metros=float(input(\"ingrese el valor de metros: \"))\n",
        "     kilómetros=metros/1000\n",
        "     print(\"valor de kilómetros: \" + repr(kilómetros))\n",
        "elif c==4:\n",
        "     kilómetros=float(input(\"ingrese el valor de kilómetros: \"))\n",
        "     centímetros=kilómetros*100000\n",
        "     print(\"valor de centímetros: \" + repr(centímetros))\n",
        "elif c==5:\n",
        "    kilómetros=float(input(\"ingrese el valor de kilómetros: \"))\n",
        "    metros=kilómetros*1000\n",
        "    print(\"el valor de metros: \" + repr(metros))\n",
        "\n",
        "else:\n",
        "     print(\"¡Error! por favor digite los valores que se muestran en pantalla\")\n"
      ],
      "metadata": {
        "colab": {
          "base_uri": "https://localhost:8080/"
        },
        "id": "nd-0ESvpgl-Z",
        "outputId": "0a185efa-26de-4b8e-f2d4-eb943e80f287"
      },
      "execution_count": 173,
      "outputs": [
        {
          "output_type": "stream",
          "name": "stdout",
          "text": [
            "escoja la opción que necesites\n",
            "1.cm a metros\n",
            "2.cm a km\n",
            "3.metros a km\n",
            "4.km a cm\n",
            "5.km a metros\n",
            "6\n",
            "Error por favor digite los valores que se muestran en pantalla\n"
          ]
        }
      ]
    },
    {
      "cell_type": "markdown",
      "source": [
        "##Ejercico 14 incompleto"
      ],
      "metadata": {
        "id": "GfjvGH_DJgRD"
      }
    },
    {
      "cell_type": "code",
      "source": [
        "palabra=input(\"digite una palabra \")\n",
        "vocales=('a','e','i','o','u')\n",
        "\n",
        "for vocal in vocales:\n",
        "    i=0\n",
        "    for letra in palabra:\n",
        "        if letra == vocal:\n",
        "            i+=1\n",
        "    print(\"la vocal \" + vocal + \" aparece \" + str(i)+ \" veces\")"
      ],
      "metadata": {
        "colab": {
          "base_uri": "https://localhost:8080/"
        },
        "id": "iSDQponbJjJa",
        "outputId": "09d86002-fb4b-4b08-f726-5fd317c4a606"
      },
      "execution_count": 86,
      "outputs": [
        {
          "output_type": "stream",
          "name": "stdout",
          "text": [
            "digite una palabra luis, maya\n",
            "la vocal a aparece 2 veces\n",
            "la vocal e aparece 0 veces\n",
            "la vocal i aparece 1 veces\n",
            "la vocal o aparece 0 veces\n",
            "la vocal u aparece 1 veces\n"
          ]
        }
      ]
    },
    {
      "cell_type": "markdown",
      "source": [
        "##Ejercicio 15 completo"
      ],
      "metadata": {
        "id": "NRcQ6-1ZF98q"
      }
    },
    {
      "cell_type": "code",
      "source": [
        "num=int(input(\"Digite un numero: \"))\n",
        " \n",
        "if num >= 0:\n",
        "  absoluto = num\n",
        "  print(\"El valor absoluto de %d es %d\" %(num,absoluto))\n",
        "else:\n",
        "  absoluto = num * -1\n",
        "  print(\"El valor absoluto de %d es %d\" %(num,absoluto))"
      ],
      "metadata": {
        "colab": {
          "base_uri": "https://localhost:8080/"
        },
        "id": "4X97N4ptGAKC",
        "outputId": "88cf7401-0bc5-42b4-ebcf-62180480b50d"
      },
      "execution_count": 116,
      "outputs": [
        {
          "output_type": "stream",
          "name": "stdout",
          "text": [
            "Digite un numero: 5\n",
            "El valor absoluto de 5 es 5\n"
          ]
        }
      ]
    },
    {
      "cell_type": "markdown",
      "source": [
        "##Ejercicio 17 completo\n"
      ],
      "metadata": {
        "id": "hfaqItY82pYj"
      }
    },
    {
      "cell_type": "code",
      "source": [
        "v=int(input(\"escoja la opción que necesites\\n1.partido alfa\\n2.partido beta\\n3.partido gamma\"))\n",
        "\n",
        "if v==1:\n",
        "    print(\"usted ha votado por el partido alfa\")\n",
        "elif v==2:\n",
        "    print(\"usted ha votado por el partido beta\")\n",
        "elif v==3:\n",
        "    print(\"usted ha votado por el partido gamma\")\n",
        "\n",
        "else:\n",
        "    print(\"has indicado un numero erróneo\")\n"
      ],
      "metadata": {
        "colab": {
          "base_uri": "https://localhost:8080/"
        },
        "id": "2SinbEeC2tRb",
        "outputId": "4fbe74ed-81e1-4f66-847a-58901eaaf51e"
      },
      "execution_count": 84,
      "outputs": [
        {
          "output_type": "stream",
          "name": "stdout",
          "text": [
            "escoja la opción que necesites\n",
            "1.partido alfa\n",
            "2.partido beta\n",
            "3.partido gamma4\n",
            "has indicado un numero erroneo\n"
          ]
        }
      ]
    },
    {
      "cell_type": "markdown",
      "source": [
        "##Ejercicio 18 mitad\n",
        "###La función repr() se utiliza para obtener la representación de cadena formal de cualquier objeto. También toma un objeto como entrada y devuelve la representación de cadena de un objeto como se muestra a continuación."
      ],
      "metadata": {
        "id": "kMxPOrHLRMWb"
      }
    },
    {
      "cell_type": "code",
      "source": [
        "numero=int(input (\"Ingresa el valor de numero: \"))\n",
        "centenas=(numero%1000-numero%100)//100\n",
        "decenas=(numero%100-numero%10)//10\n",
        "unidades=numero%10\n",
        "print(\"Valor de centenas: \" , repr (centenas))\n",
        "print(\"Valor de decenas: \" ,repr (decenas))\n",
        "print(\"Valor de unidades: \" , repr (unidades))"
      ],
      "metadata": {
        "id": "Vrm-T9PARMiq"
      },
      "execution_count": 8,
      "outputs": []
    },
    {
      "cell_type": "markdown",
      "source": [
        "##Ejercicio 19 completado"
      ],
      "metadata": {
        "id": "YEfTNwP8O1w0"
      }
    },
    {
      "cell_type": "code",
      "source": [
        "pa = input(\"digite una palabra cualquiera \")\n",
        "if str(pa) == str(pa)[::-1] :\n",
        "    print(\"Palíndromo\")\n",
        "else:\n",
        "    print(\"No es palíndromo\")"
      ],
      "metadata": {
        "colab": {
          "base_uri": "https://localhost:8080/"
        },
        "id": "T_NfKzIRO2Ju",
        "outputId": "10a3fec4-83cf-4d66-e704-7f4d641502e8"
      },
      "execution_count": 9,
      "outputs": [
        {
          "output_type": "stream",
          "name": "stdout",
          "text": [
            "digite una palabra cualquiera oso\n",
            "Palíndromo\n"
          ]
        }
      ]
    },
    {
      "cell_type": "markdown",
      "source": [
        "##Ejercicio 20 completado"
      ],
      "metadata": {
        "id": "S21mvl0uPjIp"
      }
    },
    {
      "cell_type": "code",
      "source": [
        "num = input(\"digite un numero cualquiera \")\n",
        "if str(num) == str(num)[::-1] :\n",
        "    print(\"Palíndromo\")\n",
        "else:\n",
        "    print(\"No es palíndromo\")"
      ],
      "metadata": {
        "colab": {
          "base_uri": "https://localhost:8080/"
        },
        "id": "60wB-wLnPnHg",
        "outputId": "a245bba1-7b96-4352-875f-d1243d3519cd"
      },
      "execution_count": 10,
      "outputs": [
        {
          "output_type": "stream",
          "name": "stdout",
          "text": [
            "digite un numero cualquiera 1121\n",
            "No es palíndromo\n"
          ]
        }
      ]
    }
  ]
}