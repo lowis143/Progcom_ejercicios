{
  "nbformat": 4,
  "nbformat_minor": 0,
  "metadata": {
    "colab": {
      "provenance": []
    },
    "kernelspec": {
      "name": "python3",
      "display_name": "Python 3"
    },
    "language_info": {
      "name": "python"
    }
  },
  "cells": [
    {
      "cell_type": "markdown",
      "source": [
        "#Error 1\n",
        "\n",
        "\n",
        "###Que el numero 4 ya fue removido con anterioridad, por lo que no puede eliminar una variable que no existe"
      ],
      "metadata": {
        "id": "zS3SyoJahYI5"
      }
    },
    {
      "cell_type": "code",
      "execution_count": 1,
      "metadata": {
        "colab": {
          "base_uri": "https://localhost:8080/"
        },
        "id": "Zm83_QrmhVpL",
        "outputId": "223d53e2-72d3-4c5c-ab19-2b70102e31d6"
      },
      "outputs": [
        {
          "output_type": "execute_result",
          "data": {
            "text/plain": [
              "['banana', 'sandía', 4, 5, False, 'Hola']"
            ]
          },
          "metadata": {},
          "execution_count": 1
        }
      ],
      "source": [
        "ejemplo=[\"banana\",\"sandía\", 4, 5, False]\n",
        "ejemplo.append(\"Hola\")\n",
        "ejemplo"
      ]
    },
    {
      "cell_type": "code",
      "source": [
        "#Eliminar un elemento de la lista\n",
        "ejemplo.remove(4)\n",
        "ejemplo"
      ],
      "metadata": {
        "colab": {
          "base_uri": "https://localhost:8080/"
        },
        "id": "lJ-FtYUyheFx",
        "outputId": "6eb25dd1-a667-4d03-f35a-3dc487c7d11d"
      },
      "execution_count": 2,
      "outputs": [
        {
          "output_type": "execute_result",
          "data": {
            "text/plain": [
              "['banana', 'sandía', 5, False, 'Hola']"
            ]
          },
          "metadata": {},
          "execution_count": 2
        }
      ]
    },
    {
      "cell_type": "code",
      "source": [
        "#Podría explicar el error generado?\n",
        "ejemplo.remove(4)\n",
        "ejemplo"
      ],
      "metadata": {
        "colab": {
          "base_uri": "https://localhost:8080/",
          "height": 200
        },
        "id": "vj1Knk_uhhy3",
        "outputId": "3dd0eef5-b3ec-4671-89bf-cb86db245889"
      },
      "execution_count": 3,
      "outputs": [
        {
          "output_type": "error",
          "ename": "ValueError",
          "evalue": "ignored",
          "traceback": [
            "\u001b[0;31m---------------------------------------------------------------------------\u001b[0m",
            "\u001b[0;31mValueError\u001b[0m                                Traceback (most recent call last)",
            "\u001b[0;32m<ipython-input-3-df094315dd52>\u001b[0m in \u001b[0;36m<module>\u001b[0;34m\u001b[0m\n\u001b[1;32m      1\u001b[0m \u001b[0;31m#Podría explicar el error generado?\u001b[0m\u001b[0;34m\u001b[0m\u001b[0;34m\u001b[0m\u001b[0;34m\u001b[0m\u001b[0m\n\u001b[0;32m----> 2\u001b[0;31m \u001b[0mejemplo\u001b[0m\u001b[0;34m.\u001b[0m\u001b[0mremove\u001b[0m\u001b[0;34m(\u001b[0m\u001b[0;36m4\u001b[0m\u001b[0;34m)\u001b[0m\u001b[0;34m\u001b[0m\u001b[0;34m\u001b[0m\u001b[0m\n\u001b[0m\u001b[1;32m      3\u001b[0m \u001b[0mejemplo\u001b[0m\u001b[0;34m\u001b[0m\u001b[0;34m\u001b[0m\u001b[0m\n",
            "\u001b[0;31mValueError\u001b[0m: list.remove(x): x not in list"
          ]
        }
      ]
    },
    {
      "cell_type": "markdown",
      "source": [
        "#Error 2\n",
        "\n",
        "##La variable estaba con la C mayúscula y en el código original estaba con c minúscula "
      ],
      "metadata": {
        "id": "3kQPLn4ohpQH"
      }
    },
    {
      "cell_type": "code",
      "source": [
        "larousse={\"frutas\":[\"manzana\",\"sandia\",\"guaraná\",\"kiwi\",\"granada\"],\"color\":\"violeta\",\"verdad\":True}"
      ],
      "metadata": {
        "id": "Q4e-sqNahtrs"
      },
      "execution_count": 7,
      "outputs": []
    },
    {
      "cell_type": "code",
      "source": [
        "larousse[\"Color\"]"
      ],
      "metadata": {
        "colab": {
          "base_uri": "https://localhost:8080/",
          "height": 165
        },
        "id": "exabUbsxif-F",
        "outputId": "5afc9898-ecaf-4619-eeaa-aa7461df7304"
      },
      "execution_count": 8,
      "outputs": [
        {
          "output_type": "error",
          "ename": "KeyError",
          "evalue": "ignored",
          "traceback": [
            "\u001b[0;31m---------------------------------------------------------------------------\u001b[0m",
            "\u001b[0;31mKeyError\u001b[0m                                  Traceback (most recent call last)",
            "\u001b[0;32m<ipython-input-8-017fb9bb1543>\u001b[0m in \u001b[0;36m<module>\u001b[0;34m\u001b[0m\n\u001b[0;32m----> 1\u001b[0;31m \u001b[0mlarousse\u001b[0m\u001b[0;34m[\u001b[0m\u001b[0;34m\"Color\"\u001b[0m\u001b[0;34m]\u001b[0m\u001b[0;34m\u001b[0m\u001b[0;34m\u001b[0m\u001b[0m\n\u001b[0m",
            "\u001b[0;31mKeyError\u001b[0m: 'Color'"
          ]
        }
      ]
    },
    {
      "cell_type": "markdown",
      "source": [
        "#Error 3\n",
        "\n",
        "##Error de digitación, en vez de form era from"
      ],
      "metadata": {
        "id": "X_dZ6oxVjbOe"
      }
    },
    {
      "cell_type": "code",
      "source": [
        "import pandas as pd"
      ],
      "metadata": {
        "id": "3gSryQgwjkMx"
      },
      "execution_count": 10,
      "outputs": []
    },
    {
      "cell_type": "code",
      "source": [
        "ejemplo={\"comida_y_bebidas\":[\"combo_1\",\"combo_2\",\"combo_3\",\"combo_4\",\"papas\",\"jugos_naturales\",\"cerveza\",\"agua\",\"Gaseosas\"],\"precio\":[\"$20.000\",\"$25.000\",\"$18.000\",\"$24.500\",\"$3.000\",\"$7.000\",\"$3.500\",\"$4.000\",\"$2.500\"]}\n",
        "pd.DataFrame.form_dict(ejemplo)"
      ],
      "metadata": {
        "colab": {
          "base_uri": "https://localhost:8080/",
          "height": 183
        },
        "id": "trk1U2eOjdt9",
        "outputId": "253fe2c7-44bb-422b-bac1-26824296ca02"
      },
      "execution_count": 11,
      "outputs": [
        {
          "output_type": "error",
          "ename": "AttributeError",
          "evalue": "ignored",
          "traceback": [
            "\u001b[0;31m---------------------------------------------------------------------------\u001b[0m",
            "\u001b[0;31mAttributeError\u001b[0m                            Traceback (most recent call last)",
            "\u001b[0;32m<ipython-input-11-033362f94246>\u001b[0m in \u001b[0;36m<module>\u001b[0;34m\u001b[0m\n\u001b[1;32m      1\u001b[0m \u001b[0mejemplo\u001b[0m\u001b[0;34m=\u001b[0m\u001b[0;34m{\u001b[0m\u001b[0;34m\"comida_y_bebidas\"\u001b[0m\u001b[0;34m:\u001b[0m\u001b[0;34m[\u001b[0m\u001b[0;34m\"combo_1\"\u001b[0m\u001b[0;34m,\u001b[0m\u001b[0;34m\"combo_2\"\u001b[0m\u001b[0;34m,\u001b[0m\u001b[0;34m\"combo_3\"\u001b[0m\u001b[0;34m,\u001b[0m\u001b[0;34m\"combo_4\"\u001b[0m\u001b[0;34m,\u001b[0m\u001b[0;34m\"papas\"\u001b[0m\u001b[0;34m,\u001b[0m\u001b[0;34m\"jugos_naturales\"\u001b[0m\u001b[0;34m,\u001b[0m\u001b[0;34m\"cerveza\"\u001b[0m\u001b[0;34m,\u001b[0m\u001b[0;34m\"agua\"\u001b[0m\u001b[0;34m,\u001b[0m\u001b[0;34m\"Gaseosas\"\u001b[0m\u001b[0;34m]\u001b[0m\u001b[0;34m,\u001b[0m\u001b[0;34m\"precio\"\u001b[0m\u001b[0;34m:\u001b[0m\u001b[0;34m[\u001b[0m\u001b[0;34m\"$20.000\"\u001b[0m\u001b[0;34m,\u001b[0m\u001b[0;34m\"$25.000\"\u001b[0m\u001b[0;34m,\u001b[0m\u001b[0;34m\"$18.000\"\u001b[0m\u001b[0;34m,\u001b[0m\u001b[0;34m\"$24.500\"\u001b[0m\u001b[0;34m,\u001b[0m\u001b[0;34m\"$3.000\"\u001b[0m\u001b[0;34m,\u001b[0m\u001b[0;34m\"$7.000\"\u001b[0m\u001b[0;34m,\u001b[0m\u001b[0;34m\"$3.500\"\u001b[0m\u001b[0;34m,\u001b[0m\u001b[0;34m\"$4.000\"\u001b[0m\u001b[0;34m,\u001b[0m\u001b[0;34m\"$2.500\"\u001b[0m\u001b[0;34m]\u001b[0m\u001b[0;34m}\u001b[0m\u001b[0;34m\u001b[0m\u001b[0;34m\u001b[0m\u001b[0m\n\u001b[0;32m----> 2\u001b[0;31m \u001b[0mpd\u001b[0m\u001b[0;34m.\u001b[0m\u001b[0mDataFrame\u001b[0m\u001b[0;34m.\u001b[0m\u001b[0mform_dict\u001b[0m\u001b[0;34m(\u001b[0m\u001b[0mejemplo\u001b[0m\u001b[0;34m)\u001b[0m\u001b[0;34m\u001b[0m\u001b[0;34m\u001b[0m\u001b[0m\n\u001b[0m",
            "\u001b[0;31mAttributeError\u001b[0m: type object 'DataFrame' has no attribute 'form_dict'"
          ]
        }
      ]
    },
    {
      "cell_type": "markdown",
      "source": [
        "#Error 4\n",
        "\n",
        "##cuando generamos un cuadro con pandas, en este caso precio y comida, necesita definir todas las variables en este caso faltan las papas y no generara la tabla sin ese dato"
      ],
      "metadata": {
        "id": "VSu5nGkPkAvU"
      }
    },
    {
      "cell_type": "code",
      "source": [
        "ejemplo={\"comida_y_bebidas\":[\"combo_1\",\"combo_2\",\"combo_3\",\"combo_4\",\"jugos_naturales\",\"cerveza\",\"agua\",\"Gaseosas\"],\"precio\":[\"$20.000\",\"$25.000\",\"$18.000\",\"$24.500\",\"$3.000\",\"$7.000\",\"$3.500\",\"$4.000\",\"$2.500\"]}\n",
        "pd.DataFrame.from_dict(ejemplo)"
      ],
      "metadata": {
        "colab": {
          "base_uri": "https://localhost:8080/",
          "height": 328
        },
        "id": "5A6yFBXWkDDZ",
        "outputId": "ebb820eb-eb80-429e-fc4f-761940ff05e8"
      },
      "execution_count": 12,
      "outputs": [
        {
          "output_type": "error",
          "ename": "ValueError",
          "evalue": "ignored",
          "traceback": [
            "\u001b[0;31m---------------------------------------------------------------------------\u001b[0m",
            "\u001b[0;31mValueError\u001b[0m                                Traceback (most recent call last)",
            "\u001b[0;32m<ipython-input-12-f57408034ee7>\u001b[0m in \u001b[0;36m<module>\u001b[0;34m\u001b[0m\n\u001b[1;32m      1\u001b[0m \u001b[0mejemplo\u001b[0m\u001b[0;34m=\u001b[0m\u001b[0;34m{\u001b[0m\u001b[0;34m\"comida_y_bebidas\"\u001b[0m\u001b[0;34m:\u001b[0m\u001b[0;34m[\u001b[0m\u001b[0;34m\"combo_1\"\u001b[0m\u001b[0;34m,\u001b[0m\u001b[0;34m\"combo_2\"\u001b[0m\u001b[0;34m,\u001b[0m\u001b[0;34m\"combo_3\"\u001b[0m\u001b[0;34m,\u001b[0m\u001b[0;34m\"combo_4\"\u001b[0m\u001b[0;34m,\u001b[0m\u001b[0;34m\"jugos_naturales\"\u001b[0m\u001b[0;34m,\u001b[0m\u001b[0;34m\"cerveza\"\u001b[0m\u001b[0;34m,\u001b[0m\u001b[0;34m\"agua\"\u001b[0m\u001b[0;34m,\u001b[0m\u001b[0;34m\"Gaseosas\"\u001b[0m\u001b[0;34m]\u001b[0m\u001b[0;34m,\u001b[0m\u001b[0;34m\"precio\"\u001b[0m\u001b[0;34m:\u001b[0m\u001b[0;34m[\u001b[0m\u001b[0;34m\"$20.000\"\u001b[0m\u001b[0;34m,\u001b[0m\u001b[0;34m\"$25.000\"\u001b[0m\u001b[0;34m,\u001b[0m\u001b[0;34m\"$18.000\"\u001b[0m\u001b[0;34m,\u001b[0m\u001b[0;34m\"$24.500\"\u001b[0m\u001b[0;34m,\u001b[0m\u001b[0;34m\"$3.000\"\u001b[0m\u001b[0;34m,\u001b[0m\u001b[0;34m\"$7.000\"\u001b[0m\u001b[0;34m,\u001b[0m\u001b[0;34m\"$3.500\"\u001b[0m\u001b[0;34m,\u001b[0m\u001b[0;34m\"$4.000\"\u001b[0m\u001b[0;34m,\u001b[0m\u001b[0;34m\"$2.500\"\u001b[0m\u001b[0;34m]\u001b[0m\u001b[0;34m}\u001b[0m\u001b[0;34m\u001b[0m\u001b[0;34m\u001b[0m\u001b[0m\n\u001b[0;32m----> 2\u001b[0;31m \u001b[0mpd\u001b[0m\u001b[0;34m.\u001b[0m\u001b[0mDataFrame\u001b[0m\u001b[0;34m.\u001b[0m\u001b[0mfrom_dict\u001b[0m\u001b[0;34m(\u001b[0m\u001b[0mejemplo\u001b[0m\u001b[0;34m)\u001b[0m\u001b[0;34m\u001b[0m\u001b[0;34m\u001b[0m\u001b[0m\n\u001b[0m",
            "\u001b[0;32m/usr/local/lib/python3.7/dist-packages/pandas/core/frame.py\u001b[0m in \u001b[0;36mfrom_dict\u001b[0;34m(cls, data, orient, dtype, columns)\u001b[0m\n\u001b[1;32m   1591\u001b[0m             \u001b[0;32mraise\u001b[0m \u001b[0mValueError\u001b[0m\u001b[0;34m(\u001b[0m\u001b[0;34m\"only recognize index or columns for orient\"\u001b[0m\u001b[0;34m)\u001b[0m\u001b[0;34m\u001b[0m\u001b[0;34m\u001b[0m\u001b[0m\n\u001b[1;32m   1592\u001b[0m \u001b[0;34m\u001b[0m\u001b[0m\n\u001b[0;32m-> 1593\u001b[0;31m         \u001b[0;32mreturn\u001b[0m \u001b[0mcls\u001b[0m\u001b[0;34m(\u001b[0m\u001b[0mdata\u001b[0m\u001b[0;34m,\u001b[0m \u001b[0mindex\u001b[0m\u001b[0;34m=\u001b[0m\u001b[0mindex\u001b[0m\u001b[0;34m,\u001b[0m \u001b[0mcolumns\u001b[0m\u001b[0;34m=\u001b[0m\u001b[0mcolumns\u001b[0m\u001b[0;34m,\u001b[0m \u001b[0mdtype\u001b[0m\u001b[0;34m=\u001b[0m\u001b[0mdtype\u001b[0m\u001b[0;34m)\u001b[0m\u001b[0;34m\u001b[0m\u001b[0;34m\u001b[0m\u001b[0m\n\u001b[0m\u001b[1;32m   1594\u001b[0m \u001b[0;34m\u001b[0m\u001b[0m\n\u001b[1;32m   1595\u001b[0m     def to_numpy(\n",
            "\u001b[0;32m/usr/local/lib/python3.7/dist-packages/pandas/core/frame.py\u001b[0m in \u001b[0;36m__init__\u001b[0;34m(self, data, index, columns, dtype, copy)\u001b[0m\n\u001b[1;32m    612\u001b[0m         \u001b[0;32melif\u001b[0m \u001b[0misinstance\u001b[0m\u001b[0;34m(\u001b[0m\u001b[0mdata\u001b[0m\u001b[0;34m,\u001b[0m \u001b[0mdict\u001b[0m\u001b[0;34m)\u001b[0m\u001b[0;34m:\u001b[0m\u001b[0;34m\u001b[0m\u001b[0;34m\u001b[0m\u001b[0m\n\u001b[1;32m    613\u001b[0m             \u001b[0;31m# GH#38939 de facto copy defaults to False only in non-dict cases\u001b[0m\u001b[0;34m\u001b[0m\u001b[0;34m\u001b[0m\u001b[0;34m\u001b[0m\u001b[0m\n\u001b[0;32m--> 614\u001b[0;31m             \u001b[0mmgr\u001b[0m \u001b[0;34m=\u001b[0m \u001b[0mdict_to_mgr\u001b[0m\u001b[0;34m(\u001b[0m\u001b[0mdata\u001b[0m\u001b[0;34m,\u001b[0m \u001b[0mindex\u001b[0m\u001b[0;34m,\u001b[0m \u001b[0mcolumns\u001b[0m\u001b[0;34m,\u001b[0m \u001b[0mdtype\u001b[0m\u001b[0;34m=\u001b[0m\u001b[0mdtype\u001b[0m\u001b[0;34m,\u001b[0m \u001b[0mcopy\u001b[0m\u001b[0;34m=\u001b[0m\u001b[0mcopy\u001b[0m\u001b[0;34m,\u001b[0m \u001b[0mtyp\u001b[0m\u001b[0;34m=\u001b[0m\u001b[0mmanager\u001b[0m\u001b[0;34m)\u001b[0m\u001b[0;34m\u001b[0m\u001b[0;34m\u001b[0m\u001b[0m\n\u001b[0m\u001b[1;32m    615\u001b[0m         \u001b[0;32melif\u001b[0m \u001b[0misinstance\u001b[0m\u001b[0;34m(\u001b[0m\u001b[0mdata\u001b[0m\u001b[0;34m,\u001b[0m \u001b[0mma\u001b[0m\u001b[0;34m.\u001b[0m\u001b[0mMaskedArray\u001b[0m\u001b[0;34m)\u001b[0m\u001b[0;34m:\u001b[0m\u001b[0;34m\u001b[0m\u001b[0;34m\u001b[0m\u001b[0m\n\u001b[1;32m    616\u001b[0m             \u001b[0;32mimport\u001b[0m \u001b[0mnumpy\u001b[0m\u001b[0;34m.\u001b[0m\u001b[0mma\u001b[0m\u001b[0;34m.\u001b[0m\u001b[0mmrecords\u001b[0m \u001b[0;32mas\u001b[0m \u001b[0mmrecords\u001b[0m\u001b[0;34m\u001b[0m\u001b[0;34m\u001b[0m\u001b[0m\n",
            "\u001b[0;32m/usr/local/lib/python3.7/dist-packages/pandas/core/internals/construction.py\u001b[0m in \u001b[0;36mdict_to_mgr\u001b[0;34m(data, index, columns, dtype, typ, copy)\u001b[0m\n\u001b[1;32m    463\u001b[0m \u001b[0;34m\u001b[0m\u001b[0m\n\u001b[1;32m    464\u001b[0m     return arrays_to_mgr(\n\u001b[0;32m--> 465\u001b[0;31m         \u001b[0marrays\u001b[0m\u001b[0;34m,\u001b[0m \u001b[0mdata_names\u001b[0m\u001b[0;34m,\u001b[0m \u001b[0mindex\u001b[0m\u001b[0;34m,\u001b[0m \u001b[0mcolumns\u001b[0m\u001b[0;34m,\u001b[0m \u001b[0mdtype\u001b[0m\u001b[0;34m=\u001b[0m\u001b[0mdtype\u001b[0m\u001b[0;34m,\u001b[0m \u001b[0mtyp\u001b[0m\u001b[0;34m=\u001b[0m\u001b[0mtyp\u001b[0m\u001b[0;34m,\u001b[0m \u001b[0mconsolidate\u001b[0m\u001b[0;34m=\u001b[0m\u001b[0mcopy\u001b[0m\u001b[0;34m\u001b[0m\u001b[0;34m\u001b[0m\u001b[0m\n\u001b[0m\u001b[1;32m    466\u001b[0m     )\n\u001b[1;32m    467\u001b[0m \u001b[0;34m\u001b[0m\u001b[0m\n",
            "\u001b[0;32m/usr/local/lib/python3.7/dist-packages/pandas/core/internals/construction.py\u001b[0m in \u001b[0;36marrays_to_mgr\u001b[0;34m(arrays, arr_names, index, columns, dtype, verify_integrity, typ, consolidate)\u001b[0m\n\u001b[1;32m    117\u001b[0m         \u001b[0;31m# figure out the index, if necessary\u001b[0m\u001b[0;34m\u001b[0m\u001b[0;34m\u001b[0m\u001b[0;34m\u001b[0m\u001b[0m\n\u001b[1;32m    118\u001b[0m         \u001b[0;32mif\u001b[0m \u001b[0mindex\u001b[0m \u001b[0;32mis\u001b[0m \u001b[0;32mNone\u001b[0m\u001b[0;34m:\u001b[0m\u001b[0;34m\u001b[0m\u001b[0;34m\u001b[0m\u001b[0m\n\u001b[0;32m--> 119\u001b[0;31m             \u001b[0mindex\u001b[0m \u001b[0;34m=\u001b[0m \u001b[0m_extract_index\u001b[0m\u001b[0;34m(\u001b[0m\u001b[0marrays\u001b[0m\u001b[0;34m)\u001b[0m\u001b[0;34m\u001b[0m\u001b[0;34m\u001b[0m\u001b[0m\n\u001b[0m\u001b[1;32m    120\u001b[0m         \u001b[0;32melse\u001b[0m\u001b[0;34m:\u001b[0m\u001b[0;34m\u001b[0m\u001b[0;34m\u001b[0m\u001b[0m\n\u001b[1;32m    121\u001b[0m             \u001b[0mindex\u001b[0m \u001b[0;34m=\u001b[0m \u001b[0mensure_index\u001b[0m\u001b[0;34m(\u001b[0m\u001b[0mindex\u001b[0m\u001b[0;34m)\u001b[0m\u001b[0;34m\u001b[0m\u001b[0;34m\u001b[0m\u001b[0m\n",
            "\u001b[0;32m/usr/local/lib/python3.7/dist-packages/pandas/core/internals/construction.py\u001b[0m in \u001b[0;36m_extract_index\u001b[0;34m(data)\u001b[0m\n\u001b[1;32m    633\u001b[0m             \u001b[0mlengths\u001b[0m \u001b[0;34m=\u001b[0m \u001b[0mlist\u001b[0m\u001b[0;34m(\u001b[0m\u001b[0mset\u001b[0m\u001b[0;34m(\u001b[0m\u001b[0mraw_lengths\u001b[0m\u001b[0;34m)\u001b[0m\u001b[0;34m)\u001b[0m\u001b[0;34m\u001b[0m\u001b[0;34m\u001b[0m\u001b[0m\n\u001b[1;32m    634\u001b[0m             \u001b[0;32mif\u001b[0m \u001b[0mlen\u001b[0m\u001b[0;34m(\u001b[0m\u001b[0mlengths\u001b[0m\u001b[0;34m)\u001b[0m \u001b[0;34m>\u001b[0m \u001b[0;36m1\u001b[0m\u001b[0;34m:\u001b[0m\u001b[0;34m\u001b[0m\u001b[0;34m\u001b[0m\u001b[0m\n\u001b[0;32m--> 635\u001b[0;31m                 \u001b[0;32mraise\u001b[0m \u001b[0mValueError\u001b[0m\u001b[0;34m(\u001b[0m\u001b[0;34m\"All arrays must be of the same length\"\u001b[0m\u001b[0;34m)\u001b[0m\u001b[0;34m\u001b[0m\u001b[0;34m\u001b[0m\u001b[0m\n\u001b[0m\u001b[1;32m    636\u001b[0m \u001b[0;34m\u001b[0m\u001b[0m\n\u001b[1;32m    637\u001b[0m             \u001b[0;32mif\u001b[0m \u001b[0mhave_dicts\u001b[0m\u001b[0;34m:\u001b[0m\u001b[0;34m\u001b[0m\u001b[0;34m\u001b[0m\u001b[0m\n",
            "\u001b[0;31mValueError\u001b[0m: All arrays must be of the same length"
          ]
        }
      ]
    },
    {
      "cell_type": "markdown",
      "source": [
        "#Error 5\n",
        "\n",
        "al poner el \\ en el medio de las comillas dobles y sencillas nos da este error, era solamente poner el \\ en el final de las comillas dobles"
      ],
      "metadata": {
        "id": "pmGqTxzJkkbX"
      }
    },
    {
      "cell_type": "code",
      "source": [
        "print('me gusta \\\"Monty python\"\\')"
      ],
      "metadata": {
        "colab": {
          "base_uri": "https://localhost:8080/",
          "height": 130
        },
        "id": "Nou4jMOmknzO",
        "outputId": "d9da700d-a0b5-4d7c-f835-f2b3bfa051ad"
      },
      "execution_count": 39,
      "outputs": [
        {
          "output_type": "error",
          "ename": "SyntaxError",
          "evalue": "ignored",
          "traceback": [
            "\u001b[0;36m  File \u001b[0;32m\"<ipython-input-39-1e8e1718bafa>\"\u001b[0;36m, line \u001b[0;32m1\u001b[0m\n\u001b[0;31m    print('me gusta \\\"Monty python\"\\')\u001b[0m\n\u001b[0m                                      ^\u001b[0m\n\u001b[0;31mSyntaxError\u001b[0m\u001b[0;31m:\u001b[0m EOL while scanning string literal\n"
          ]
        }
      ]
    },
    {
      "cell_type": "markdown",
      "source": [
        "#Error 6\n",
        "\n",
        "##Este error me paso cuando estaba creando el juego educativo que era el siguiente: FileNotFound Error: No Fula \"imágenes/oculta.png\"\n",
        "\n",
        "###Este error paso porque no habia generado la carpeta correctamente, y cuando intente abrir el archivo para corroborar me daba este error porque no tenia su correspondiente carpeta con las imágenes "
      ],
      "metadata": {
        "id": "lDkCn1ElmtUi"
      }
    },
    {
      "cell_type": "markdown",
      "source": [
        "#Error 7\n",
        "##Estoy llamando una posición en una lista vacia, por lo que eso nos daria el error en pantalla :)"
      ],
      "metadata": {
        "id": "4wFVbUo9ni3R"
      }
    },
    {
      "cell_type": "code",
      "source": [
        "lista=[]"
      ],
      "metadata": {
        "id": "YORhSUQ6nkqQ"
      },
      "execution_count": 41,
      "outputs": []
    },
    {
      "cell_type": "code",
      "source": [
        "lista[0]"
      ],
      "metadata": {
        "colab": {
          "base_uri": "https://localhost:8080/",
          "height": 165
        },
        "id": "cyaW3xw_oRI3",
        "outputId": "f14e6ccc-46bb-4911-8534-d652f9b2c5b7"
      },
      "execution_count": 44,
      "outputs": [
        {
          "output_type": "error",
          "ename": "TypeError",
          "evalue": "ignored",
          "traceback": [
            "\u001b[0;31m---------------------------------------------------------------------------\u001b[0m",
            "\u001b[0;31mTypeError\u001b[0m                                 Traceback (most recent call last)",
            "\u001b[0;32m<ipython-input-44-b9fd8146af7a>\u001b[0m in \u001b[0;36m<module>\u001b[0;34m\u001b[0m\n\u001b[0;32m----> 1\u001b[0;31m \u001b[0mlista\u001b[0m\u001b[0;34m[\u001b[0m\u001b[0;36m0\u001b[0m\u001b[0;34m]\u001b[0m\u001b[0;34m\u001b[0m\u001b[0;34m\u001b[0m\u001b[0m\n\u001b[0m",
            "\u001b[0;31mTypeError\u001b[0m: 'int' object is not subscriptable"
          ]
        }
      ]
    },
    {
      "cell_type": "markdown",
      "source": [
        "#Error 8\n",
        "\n",
        "##Este proprama fallo porque en el if se me olvido colocar los dos puntos, por lo que no se ejecutara debidamente"
      ],
      "metadata": {
        "id": "TYvAQgIIoo2D"
      }
    },
    {
      "cell_type": "code",
      "source": [
        "n=int(input(\"ingrese la tabla que desee calcular\"))\n",
        "\n",
        "for i in range(1,11):\n",
        "  print(n,\"x\",i,\"=\",n*i)\n",
        "  if n>=11\n",
        "    print(\"error, ingrese solo numeros en el rango 1 al 10\")\n",
        "    break"
      ],
      "metadata": {
        "colab": {
          "base_uri": "https://localhost:8080/",
          "height": 130
        },
        "id": "tbtYysTUozyF",
        "outputId": "0f4af17a-a5ab-4bbc-d938-410a45ac4f42"
      },
      "execution_count": 45,
      "outputs": [
        {
          "output_type": "error",
          "ename": "SyntaxError",
          "evalue": "ignored",
          "traceback": [
            "\u001b[0;36m  File \u001b[0;32m\"<ipython-input-45-b48944d2e8f8>\"\u001b[0;36m, line \u001b[0;32m5\u001b[0m\n\u001b[0;31m    if n>=11\u001b[0m\n\u001b[0m            ^\u001b[0m\n\u001b[0;31mSyntaxError\u001b[0m\u001b[0;31m:\u001b[0m invalid syntax\n"
          ]
        }
      ]
    },
    {
      "cell_type": "markdown",
      "source": [
        "#Error 9\n",
        "\n",
        "##Este codigo no funcionara, debido a que no tenemos un print debajo del elif que nos ayude a completar el problema que seria el de abajo\n",
        "\n",
        "\t###print(\"Es bisiesto \")"
      ],
      "metadata": {
        "id": "5YMCIM_epBp1"
      }
    },
    {
      "cell_type": "code",
      "source": [
        "año = int(input(\"elija el año que quiera revisar si es bisieto \"))\n",
        "\n",
        "if año % 4 != 0: \n",
        "\tprint(\"No es bisiesto \")\n",
        "elif año % 4 == 0 and año % 100 != 0: \n",
        "\tprint(\"Es bisiesto \")\n",
        "elif año % 4 == 0 and año % 100 == 0 and año % 400 != 0: \n",
        "\tprint(\"No es bisiesto \")\n",
        "elif año % 4 == 0 and año % 100 == 0 and año % 400 == 0: \n"
      ],
      "metadata": {
        "colab": {
          "base_uri": "https://localhost:8080/",
          "height": 130
        },
        "id": "P5_POzI9qqcP",
        "outputId": "7609fe88-2453-46f1-a993-ff2a86cfefd1"
      },
      "execution_count": 47,
      "outputs": [
        {
          "output_type": "error",
          "ename": "IndentationError",
          "evalue": "ignored",
          "traceback": [
            "\u001b[0;36m  File \u001b[0;32m\"<ipython-input-47-a081353b5b08>\"\u001b[0;36m, line \u001b[0;32m10\u001b[0m\n\u001b[0;31m    else:\u001b[0m\n\u001b[0m       ^\u001b[0m\n\u001b[0;31mIndentationError\u001b[0m\u001b[0;31m:\u001b[0m expected an indented block\n"
          ]
        }
      ]
    },
    {
      "cell_type": "markdown",
      "source": [
        "#Error 10\n",
        "\n",
        "##como la variable en n1 tiene int y input, falto cerrar al final, por lo que esa vatiable dañara a la siguiente y no correra dicho programa"
      ],
      "metadata": {
        "id": "q5qt-3C5rKw_"
      }
    },
    {
      "cell_type": "code",
      "source": [
        "n1=int(input(\"ingrese su primera nota \")\n",
        "n2=int(input(\"ingrese su segunda nota \"))\n",
        "n3=int(input(\"ingrese su tercera nota \"))\n",
        "n4=int(input(\"ingrese su cuarta nota \"))\n",
        "\n",
        "p=n1+n2+n3+n4\n",
        "pt=p/4\n",
        "\n",
        "if pt>4.5:\n",
        "  print(\"queda eximido del ultimo examen, su nota final es \",pt)\n",
        "elif pt>3.5:\n",
        "  print(\"debe presentar el examen, su nota final es: \",pt)\n",
        "elif pt>3.0:\n",
        "  print(\"debe presentar el examen y presentar un trabajo, su nota final es:\",pt)\n",
        "elif pt>2.0:\n",
        "\n",
        "  print(\"debe presentar habilitación, su nota final es:\",pt)\n",
        "else:\n",
        "   print(\"perdió la materia irremediablemente\")\n",
        " "
      ],
      "metadata": {
        "colab": {
          "base_uri": "https://localhost:8080/",
          "height": 130
        },
        "id": "6OEFw6ZrrOlz",
        "outputId": "269831da-3e80-4afd-cec4-962cea18d8f5"
      },
      "execution_count": 48,
      "outputs": [
        {
          "output_type": "error",
          "ename": "SyntaxError",
          "evalue": "ignored",
          "traceback": [
            "\u001b[0;36m  File \u001b[0;32m\"<ipython-input-48-374824a047f3>\"\u001b[0;36m, line \u001b[0;32m2\u001b[0m\n\u001b[0;31m    n2=int(input(\"ingrese su segunda nota \"))\u001b[0m\n\u001b[0m     ^\u001b[0m\n\u001b[0;31mSyntaxError\u001b[0m\u001b[0;31m:\u001b[0m invalid syntax\n"
          ]
        }
      ]
    }
  ]
}