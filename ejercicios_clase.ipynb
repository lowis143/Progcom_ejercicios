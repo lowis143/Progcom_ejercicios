{
  "nbformat": 4,
  "nbformat_minor": 0,
  "metadata": {
    "colab": {
      "name": "ejercicios clase ",
      "provenance": []
    },
    "kernelspec": {
      "name": "python3",
      "display_name": "Python 3"
    },
    "language_info": {
      "name": "python"
    }
  },
  "cells": [
    {
      "cell_type": "markdown",
      "source": [
        "\n",
        "\n",
        "#taller 1"
      ],
      "metadata": {
        "id": "mrlSOnkEqYhw"
      }
    },
    {
      "cell_type": "markdown",
      "source": [
        "##ejercicio 1"
      ],
      "metadata": {
        "id": "u5EWuqpdqkas"
      }
    },
    {
      "cell_type": "markdown",
      "source": [
        "##Ejercicio 4"
      ],
      "metadata": {
        "id": "WWtTghH1wkC8"
      }
    },
    {
      "cell_type": "code",
      "source": [
        " ga=int(input(\"ingrese su patrimonio bruto del año 2021 \"))\n",
        " ga=int(input(\"ingrese sus gatos en la tarjeta de credito \"))\n",
        "\n",
        "if ga>=163386000:\n",
        "    print(\"debe pagar impuesto de renta\")\n",
        "elif ga\n",
        "else:\n",
        "    print(\"no debe pagar impuesto\")"
      ],
      "metadata": {
        "colab": {
          "base_uri": "https://localhost:8080/"
        },
        "id": "nNIevUlP0YWb",
        "outputId": "2aaccca3-b421-4d03-f612-621cef14c476"
      },
      "execution_count": 34,
      "outputs": [
        {
          "output_type": "stream",
          "name": "stdout",
          "text": [
            "ingrese su patrimonio bruto del año 2021 163386\n",
            "no debe pagar impuesto\n"
          ]
        }
      ]
    },
    {
      "cell_type": "markdown",
      "source": [
        "##Ejercicio 6\n"
      ],
      "metadata": {
        "id": "PVemVFd-3b76"
      }
    },
    {
      "cell_type": "code",
      "source": [
        "n1=int(input(\"ingrese su primera nota \"))\n",
        "n2=int(input(\"ingrese su segunda nota \"))\n",
        "n3=int(input(\"ingrese su tercera nota \"))\n",
        "n4=int(input(\"ingrese su cuarta nota \"))\n",
        "\n",
        "p=n1+n2+n3+n4\n",
        "pt=p/4\n",
        "\n",
        "if pt>4.5:\n",
        "  print(\"queda eximido del ultimo examen, su nota final es \",pt)\n",
        "elif pt>3.5:\n",
        "  print(\"debe presentar el examen, su nota final es: \",pt)\n",
        "elif pt>3.0:\n",
        "  print(\"debe presentar el examen y presentar un trabajo, su nota final es:\",pt)\n",
        "elif pt>2.0:\n",
        "  print(\"debe presentar habilitación, su nota final es:\",pt)\n",
        "else:\n",
        "  print(\"perdio la materia irremediablemente\")\n",
        "  "
      ],
      "metadata": {
        "colab": {
          "base_uri": "https://localhost:8080/"
        },
        "id": "1M7EQih43j2S",
        "outputId": "c9a9300f-cf07-46c3-d47c-072936f1c268"
      },
      "execution_count": 60,
      "outputs": [
        {
          "output_type": "stream",
          "name": "stdout",
          "text": [
            "ingrese su primera nota 4\n",
            "ingrese su segunda nota 4\n",
            "ingrese su tercera nota 5\n",
            "ingrese su cuarta nota 5\n",
            "debe presentar el examen, su nota final es:  4.5\n"
          ]
        }
      ]
    },
    {
      "cell_type": "markdown",
      "source": [
        "#Ejercicio 12"
      ],
      "metadata": {
        "id": "Ds7E_-DS_p9X"
      }
    },
    {
      "cell_type": "code",
      "source": [
        "t=int(input(\"escoja la opción que necesites\\n1.suma\\n2.resta\\n3.multiplicación\\n4.división\\n \"))\n"
      ],
      "metadata": {
        "colab": {
          "base_uri": "https://localhost:8080/"
        },
        "id": "KQ07HweaA7__",
        "outputId": "825806b7-1fb6-43c7-c765-3659586fe5cf"
      },
      "execution_count": 77,
      "outputs": [
        {
          "name": "stdout",
          "output_type": "stream",
          "text": [
            "escoja la opción que necesites\n",
            "1.suma\n",
            "2.resta\n",
            "3.multiplicación\n",
            "4.división\n",
            " 1\n"
          ]
        }
      ]
    }
  ]
}