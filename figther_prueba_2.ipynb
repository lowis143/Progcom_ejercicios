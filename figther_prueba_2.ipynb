{
  "nbformat": 4,
  "nbformat_minor": 0,
  "metadata": {
    "colab": {
      "provenance": []
    },
    "kernelspec": {
      "name": "python3",
      "display_name": "Python 3"
    },
    "language_info": {
      "name": "python"
    }
  },
  "cells": [
    {
      "cell_type": "code",
      "execution_count": null,
      "metadata": {
        "id": "A-Ks_UXDR9-U"
      },
      "outputs": [],
      "source": [
        "clase1=int(input(\"Que cantidad de estudiantes hay en el salón1\"))\n",
        "clase2=int(input(\"Que cantidad de estudiantes hay en el salón2\"))\n",
        "clase3=int(input(\"Que cantidad de estudiantes hay en el salón3\"))\n",
        "\n",
        "\n",
        "\n",
        "n1=int(input(\"ingrese la nota del estudiante\"))\n",
        "n2=int(input(\"ingrese la nota del estudiante\"))\n",
        "n3=int(input(\"ingrese la nota del estudiante\"))\n",
        "n4=int(input(\"ingrese la nota del estudiante\"))\n",
        "\n",
        "listf=[n1,n2,n3,n4]\n",
        "\n"
      ]
    }
  ]
}