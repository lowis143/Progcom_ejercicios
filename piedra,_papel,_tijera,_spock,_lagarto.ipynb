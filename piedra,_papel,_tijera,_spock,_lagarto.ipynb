{
  "nbformat": 4,
  "nbformat_minor": 0,
  "metadata": {
    "colab": {
      "provenance": [],
      "collapsed_sections": []
    },
    "kernelspec": {
      "name": "python3",
      "display_name": "Python 3"
    },
    "language_info": {
      "name": "python"
    }
  },
  "cells": [
    {
      "cell_type": "markdown",
      "source": [
        "##piedra, papel, tijera, spock, lagarto"
      ],
      "metadata": {
        "id": "5CN4w61hBYx6"
      }
    },
    {
      "cell_type": "code",
      "source": [
        "import random \n",
        "\n",
        "while True: \n",
        "    aleatorio= random.randrange(0, 5)\n",
        "    elijepc =\"\"\n",
        "    print(\"1. piedra\")\n",
        "    print(\"2. papel\")\n",
        "    print(\"3. tijera\")\n",
        "    print(\"4. spock\")\n",
        "    print(\"5. lagarto\")\n",
        "    opcion=int(input(\"elige tu opción\"))\n",
        "\n",
        "    if opcion ==1:\n",
        "        elijeuser=\"piedra\"\n",
        "    elif opcion ==2: \n",
        "        elijeuser=\"papel\"\n",
        "    elif opcion ==3: \n",
        "        elijeuser=\"tijera\"\n",
        "    elif opcion ==4:\n",
        "        elijeuser=\"spock\"\n",
        "    elif opcion ==5: \n",
        "        elijeuser=\"lagarto\"\n",
        "    print(\"Elegiste: \",elijeuser)\n",
        "    if aleatorio==0:\n",
        "        elijepc=\"piedra\"\n",
        "    elif aleatorio==1:\n",
        "        elijepc=\"papel\"\n",
        "    elif aleatorio==2:\n",
        "        elijepc=\"tijera\"\n",
        "    elif aleatorio==3:\n",
        "        elijepc=\"spock\"\n",
        "    elif aleatorio==4:\n",
        "        elijepc=\"lagarto\"\n",
        "    print(\"la máquina elijio: \", elijepc)\n",
        "    print(\"\")\n",
        "    if elijepc==\"piedra\"and elijeuser==\"papel\":\n",
        "        print(\"Ganaste, papel envuelve piedra\")\n",
        "    elif elijepc==\"papel\"and elijeuser==\"tijera\":\n",
        "        print(\"Ganaste, tijera corta papel\")\n",
        "    elif elijepc==\"tijera\"and elijeuser==\"piedra\":\n",
        "        print(\"Ganaste, piedra gana a papel\")\n",
        "    elif elijepc==\"spock\"and elijeuser==\"lagarto\":\n",
        "        print(\"ganaste lagarto envenena spock \")\n",
        "  \n",
        "    elif elijepc==\"tijera\"and elijeuser==\"spock\":\n",
        "        print(\"ganaste spock rompe tijera\")\n",
        "    elif elijepc==\"piedra\"and elijeuser==\"spock\":\n",
        "        print(\"ganaste spock vaporiza piedra\")\n",
        "    elif elijepc==\"papel\"and elijeuser==\"lagarto\":\n",
        "        print(\"ganaste lagarto devora papel\")\n",
        "\n",
        "    elif elijepc==\"papel\"and elijeuser==\"piedra\":\n",
        "        print(\"perdiste papel envuelve piedra\")\n",
        "    elif elijepc==\"tijera\"and elijeuser==\"papel\":\n",
        "        print(\"perdiste tijera rompe pael\")\n",
        "    elif elijepc==\"piedra\"and elijeuser==\"tijera\":\n",
        "        print(\"perdiste piedra rompe tijera\")\n",
        "    elif elijepc==\"tijera\"and elijeuser==\"lagarto\":\n",
        "        print(\"perdiste tijera decapita lagarto\")\n",
        "\n",
        "    elif elijepc==\"piedra\"and elijeuser==\"lagarto\":\n",
        "        print(\"perdiste piedra aplasta lagarto\")\n",
        "\n",
        "    elif elijepc==\"lagarto\"and elijeuser==\"spock\":\n",
        "        print(\"perdiste lagarto envenena a spock\")\n",
        "    elif elijepc==\"papel\"and elijeuser==\"spock\":\n",
        "        print(\"perdiste papel desautoriza spock\")        \n",
        "\n",
        "    elif elijepc==elijeuser:\n",
        "        print(\"empate\")\n",
        "    "
      ],
      "metadata": {
        "colab": {
          "base_uri": "https://localhost:8080/"
        },
        "id": "bWZmC1X-B8zW",
        "outputId": "508d4100-2efa-4a0d-9fa9-6c40fe2775b4"
      },
      "execution_count": null,
      "outputs": [
        {
          "output_type": "stream",
          "name": "stdout",
          "text": [
            "1. piedra\n",
            "2. papel\n",
            "3. tijera\n",
            "4. spock\n",
            "5. lagarto\n",
            "elige tu opción5\n",
            "Elegiste:  lagarto\n",
            "la máquina elijio:  tijera\n",
            "\n",
            "perdiste tijera decapita lagarto\n",
            "1. piedra\n",
            "2. papel\n",
            "3. tijera\n",
            "4. spock\n",
            "5. lagarto\n"
          ]
        }
      ]
    }
  ]
}