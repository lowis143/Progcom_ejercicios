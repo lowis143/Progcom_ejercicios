{
  "nbformat": 4,
  "nbformat_minor": 0,
  "metadata": {
    "colab": {
      "provenance": []
    },
    "kernelspec": {
      "name": "python3",
      "display_name": "Python 3"
    },
    "language_info": {
      "name": "python"
    }
  },
  "cells": [
    {
      "cell_type": "code",
      "source": [
        "#ejercicio 1\n",
        "print(\"Digite un numero entero: \")\n",
        "Numero1=int(input())\n",
        "print(\"Digite un segundo numero:\")\n",
        "Numero2=int(input())\n",
        "division=(Numero1/Numero2)\n",
        "modulo=(Numero1%Numero2)\n",
        "Resultado=(f'La division es exacta. El resultado es : cociente={int(division)}') if modulo==0  else (f'La division no es exacta. El resultado es : cociente={division} y el resto= {modulo}')\n",
        "print(Resultado)\n"
      ],
      "metadata": {
        "id": "OqDFuEQ5UhDZ"
      },
      "execution_count": null,
      "outputs": []
    },
    {
      "cell_type": "code",
      "source": [
        "#ejercicio 2\n",
        "\n",
        "print(\"Este programa solicita 2 números y verificará si uno es múltiplo de otro\")\n",
        "\n",
        "n1=int(input(\"Ingresar el primer número: \"))\n",
        "n2=int(input(\"Ingresar el segundo número: \"))\n",
        "respuesta=(n1%n2)\n",
        "RTA=\"Si es múltiplo\" if respuesta==0 else \"No es múltiplo\"\n",
        "print(RTA)"
      ],
      "metadata": {
        "colab": {
          "base_uri": "https://localhost:8080/"
        },
        "id": "l2RHXBSsSsBm",
        "outputId": "a75df9f4-611a-4dbc-9abc-1f87371392b9"
      },
      "execution_count": 23,
      "outputs": [
        {
          "output_type": "stream",
          "name": "stdout",
          "text": [
            "Este programa solicita 2 números y verificará si uno es múltiplo de otro\n",
            "Ingresar el primer número: 6\n",
            "Ingresar el segundo número: 5\n",
            "No es múltiplo\n"
          ]
        }
      ]
    },
    {
      "cell_type": "code",
      "source": [
        "#ejercicio 3\n",
        "h1 = int(input(\"Digita la edad del primer hermano: \"))\n",
        "h2 = int(input(\"Digita la edad del segundo hermano: \"))\n",
        "h3 = int(input(\"Digita la edad del tercer hermano: \"))\n",
        "\n",
        "orden = \"el primer hermano es el mayor\"  if h1>h2 and h1>h3 else  \"el segundo hermano es el mayor\", \"el tercer hermano es el mayor\" if h3>h1 and h3>h2 else  \"El primer y segundo hermano son gemelos\" if h1==h2 else \"El segundo y tercer hermano son gemelos\" if h2==h3 else \"El primero y tercer hemano son gemelos \" if h1==h3 else \"son trillizos\" if h1==h2==h3 else \"no son trillizos\"\n",
        "print(orden)"
      ],
      "metadata": {
        "colab": {
          "base_uri": "https://localhost:8080/"
        },
        "id": "bQpdyNliTqb1",
        "outputId": "f54f0dd9-9d72-44bd-c4c4-b443bb2b560e"
      },
      "execution_count": 27,
      "outputs": [
        {
          "output_type": "stream",
          "name": "stdout",
          "text": [
            "Digita la edad del primer hermano: 9\n",
            "Digita la edad del segundo hermano: 5\n",
            "Digita la edad del tercer hermano: 4\n",
            "('el primer hermano es el mayor', 'no son trillizos')\n"
          ]
        }
      ]
    },
    {
      "cell_type": "code",
      "source": [
        "#Ejercicio 4\n",
        "Nom=str(input(\"digite su nombre\"))\n",
        "Pat=int(input(\"ingrese su patrimonio bruto al término del año 2021 sin puntos ni comas\"))\n",
        "Ing=int(input(\"ingrese sus ingresos totales del ejercicio gravable para el año 2022 sin puntos ni comas\"))\n",
        "Tar=int(input(\"ingrese su gastos por medio de tarjeta de crédito para el año 2022 sin puntos ni comas \"))\n",
        "Com=int(input(\"ingrese el valor total de las compras y consumos para el  año 2022 sin puntos ni comas\"))\n",
        "Con=int(input(\"ingrese el valor total acumulado de consignaciones bancarias, depósitos o inversiones financieras para el  año 2022 sin puntos ni comas \"))\n",
        "Dian=\"Usted\",Nom,\"Debe declarar Renta para el año 2022\",\"no olvide realizarla con ayuda de su contador de confianza\" if Pat >= 163386000 or Ing >= 50831000 or Tar >= 50831000 or Com >= 50831000 or Con >= 50831000 else \"usted\",Nom,\"No debe presentar Declaracion de Renta para el año 2022\"\n",
        "print(Dian)"
      ],
      "metadata": {
        "id": "iZ6057HuVAel"
      },
      "execution_count": null,
      "outputs": []
    },
    {
      "cell_type": "code",
      "source": [
        "#ejercicio 6\n",
        "nt1=int(input(\"ingrese su primera nota \"))\n",
        "nt2=int(input(\"ingrese su segunda nota \"))\n",
        "nt3=int(input(\"ingrese su tercera nota \"))\n",
        "nt4=int(input(\"ingrese su cuarta nota \"))\n",
        "snt=nt1+nt2+nt3+nt4\n",
        "ntf=snt/4 \n",
        "\n",
        "nf=\"Queda eximido del ultimo examen\" if ntf>4.5 else \"debe presentar el examen\" if ntf>3.5 else \"debe presentar el examen y entregar un trabajo\" if ntf>3.0 else\"debe presentar habilitación\" if ntf>2.0 else\"perdio la materia irremediablemente\"\n",
        "\n",
        "print(nf, \"su nota final es\",ntf)\n",
        "\n"
      ],
      "metadata": {
        "id": "60flXpjrNILt"
      },
      "execution_count": null,
      "outputs": []
    },
    {
      "cell_type": "code",
      "source": [
        "#Ejercicio 8\n",
        "numero = int(input(\"Ingresa un numero\"))\n",
        "print(\"El numero es bisiesto\") if (numero%4==0 and numero%100!=0) else print(\"El numero no es bisiesto\")"
      ],
      "metadata": {
        "id": "YRHS7gUJWiZ5"
      },
      "execution_count": null,
      "outputs": []
    },
    {
      "cell_type": "code",
      "source": [
        "#Ejercicio 14\n",
        "letra= str(input(\"Dame un letra y te dire si es vocal o consonante: \")).lower()\n",
        "tipo1=(\"Es vocal\") if letra ==\"a\" or letra==\"e\" or letra==\"i\" or letra==\"o\" or letra==\"u\" else \"No es vocal\"\n",
        "tipo2=(\"Es consonante\") if letra== \"b\" or letra== \"c\" or letra== \"d\" or letra== \"f\" or letra== \"g\" or letra== \"h\" or letra== \"j\" or letra== \"k\" or letra== \"l\" or letra== \"m\" or letra== \"n\" or letra== \"o\" or letra== \"p\" or letra== \"q\" or letra== \"r\" or letra== \"s\" or letra== \"t\" or letra== \"v\" or letra== \"x\" or letra== \"w\" or letra== \"y\" or letra== \"z\" else (\"No es consonante.\")\n",
        "print(tipo1)\n",
        "print(tipo2)"
      ],
      "metadata": {
        "id": "Ah39fOXbWaeR"
      },
      "execution_count": null,
      "outputs": []
    },
    {
      "cell_type": "code",
      "source": [
        "#Ejercicio 15\n",
        "texto = int(input(\"\")) \n",
        "Resultado= abs(texto) if texto<0 else (f\"{texto}\")\n",
        "print(Resultado)"
      ],
      "metadata": {
        "id": "QpD37js-Vubk"
      },
      "execution_count": null,
      "outputs": []
    },
    {
      "cell_type": "code",
      "source": [
        "#Ejercicio 16\n",
        "print(\"Ingresa 2 usuarios\") \n",
        "user1=input(\" usuario 1\") \n",
        "user2=input(\" usuario 2\")\n",
        "if user1[0:1]==user2[0:1]:print(\"Coincidencia\")  \n",
        "else:print(\"No hay coincidencia\")"
      ],
      "metadata": {
        "id": "nfnih-UCWeYR"
      },
      "execution_count": null,
      "outputs": []
    },
    {
      "cell_type": "code",
      "source": [
        "#Ejercicio 18\n",
        "numero=int(input(\"Ingrese un número: \"))\n",
        "dato=\"Solo se calculan las 3 últimas cifras\" if numero>=1000 else \"La respuesta es:\"\n",
        "print(dato)\n",
        "centenas=(numero%1000-numero%100)//100\n",
        "decenas=(numero%100-numero%10)//10\n",
        "unidades=numero%10\n",
        "print(\"Tiene\", centenas,\"centenas,\", \"tiene\", decenas, \"decenas\", \"y tiene\", unidades, \"unidades\")"
      ],
      "metadata": {
        "id": "l_5oGGb9WD6B"
      },
      "execution_count": null,
      "outputs": []
    },
    {
      "cell_type": "code",
      "source": [
        "#Ejercicio 19\n",
        "\n",
        "print(\"Este programa verificará si una palabra es palíndromo o no\")\n",
        "p=str(input(\"Ingrese una palabra: \"))\n",
        "p=p.upper()\n",
        "\n",
        "respuesta=\"Es un palíndromo\" if (p) == (p)[::-1] else \"No es un palíndromo\"\n",
        "print(respuesta)"
      ],
      "metadata": {
        "id": "RC22f3goVJdN"
      },
      "execution_count": null,
      "outputs": []
    },
    {
      "cell_type": "code",
      "source": [
        "#Ejercicio 20\n",
        "\n",
        "print(\"Este programa verificará si un número es palíndromo o no\")\n",
        "p=int(input(\"Ingrese el número: \"))\n",
        "\n",
        "respuesta=\"Es un palíndromo\" if  str(p) == str(p)[::-1] else \"No es un palíndromo\"\n",
        "print(respuesta)"
      ],
      "metadata": {
        "id": "erJyfp_zRL9u"
      },
      "execution_count": null,
      "outputs": []
    }
  ]
}