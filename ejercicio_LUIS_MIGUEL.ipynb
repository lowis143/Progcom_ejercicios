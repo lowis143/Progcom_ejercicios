{
  "nbformat": 4,
  "nbformat_minor": 0,
  "metadata": {
    "colab": {
      "provenance": []
    },
    "kernelspec": {
      "name": "python3",
      "display_name": "Python 3"
    },
    "language_info": {
      "name": "python"
    }
  },
  "cells": [
    {
      "cell_type": "markdown",
      "source": [
        "#SECUENCIA DE DATOS\n"
      ],
      "metadata": {
        "id": "SHcbrJhhNGOk"
      }
    },
    {
      "cell_type": "markdown",
      "source": [
        "##LISTAS\n",
        "También conocidas como vectores o arrays.\n",
        "Es una variable que, en lugar de contener un valor, contiene una secuencia ordenada de estos, a los que se puede acceder por su posición o por su índice.\n",
        "Se declaran indicando sus elementos, separados por comas, entre corchetes []"
      ],
      "metadata": {
        "id": "325LVBzsM0x7"
      }
    },
    {
      "cell_type": "code",
      "execution_count": 47,
      "metadata": {
        "colab": {
          "base_uri": "https://localhost:8080/"
        },
        "id": "23GjaB68MkIG",
        "outputId": "ff02f35e-67b2-4ff2-9025-d0dbcd94fe8f"
      },
      "outputs": [
        {
          "output_type": "execute_result",
          "data": {
            "text/plain": [
              "['primero', 'segundo', 'tercero', 'cuarto']"
            ]
          },
          "metadata": {},
          "execution_count": 47
        }
      ],
      "source": [
        "lista=[\"primero\",\"segundo\", \"tercero\", \"cuarto\"]\n",
        "lista"
      ]
    },
    {
      "cell_type": "markdown",
      "source": [
        "###Accediendo a los elementos de la lista"
      ],
      "metadata": {
        "id": "yPn3XFg4PWpt"
      }
    },
    {
      "cell_type": "code",
      "source": [
        "#Accediendo a la lista por posición\n",
        "lista[0]"
      ],
      "metadata": {
        "colab": {
          "base_uri": "https://localhost:8080/",
          "height": 35
        },
        "id": "-63XOgdXOzdR",
        "outputId": "1f36e4f9-864b-4fff-b665-9291f9bbf4a8"
      },
      "execution_count": 48,
      "outputs": [
        {
          "output_type": "execute_result",
          "data": {
            "text/plain": [
              "'primero'"
            ],
            "application/vnd.google.colaboratory.intrinsic+json": {
              "type": "string"
            }
          },
          "metadata": {},
          "execution_count": 48
        }
      ]
    },
    {
      "cell_type": "code",
      "source": [
        "#Accediendo a todos los elementos de la lista empleando el slicing\n",
        "lista[:]"
      ],
      "metadata": {
        "colab": {
          "base_uri": "https://localhost:8080/"
        },
        "id": "cadWYF2xSW8L",
        "outputId": "70fad28b-c36a-4ccf-c914-1a6f6970d2f9"
      },
      "execution_count": 49,
      "outputs": [
        {
          "output_type": "execute_result",
          "data": {
            "text/plain": [
              "['primero', 'segundo', 'tercero', 'cuarto']"
            ]
          },
          "metadata": {},
          "execution_count": 49
        }
      ]
    },
    {
      "cell_type": "code",
      "source": [
        "#Accediendo a los dos primeros elementos de la lista\n",
        "lista[0:2]"
      ],
      "metadata": {
        "colab": {
          "base_uri": "https://localhost:8080/"
        },
        "id": "XsDQpQKISYiL",
        "outputId": "5b93d18f-5a9d-4339-97e3-1589e593b7d5"
      },
      "execution_count": 50,
      "outputs": [
        {
          "output_type": "execute_result",
          "data": {
            "text/plain": [
              "['primero', 'segundo']"
            ]
          },
          "metadata": {},
          "execution_count": 50
        }
      ]
    },
    {
      "cell_type": "code",
      "source": [
        "#Existe alguna otra manera de imprimir los dos primeros elementos de la lista? Coloque la línea de código que hace esto.\n",
        "x=lista[0:-2]\n",
        "print(x)"
      ],
      "metadata": {
        "id": "miawsux8S7BD",
        "colab": {
          "base_uri": "https://localhost:8080/"
        },
        "outputId": "2442b729-403f-48ff-d6cb-1519366b5e12"
      },
      "execution_count": 135,
      "outputs": [
        {
          "output_type": "stream",
          "name": "stdout",
          "text": [
            "['primero', 'segundo']\n"
          ]
        }
      ]
    },
    {
      "cell_type": "code",
      "source": [
        "#Accediendo a los dos últimos elementos de la lista\n",
        "lista[2:4]"
      ],
      "metadata": {
        "colab": {
          "base_uri": "https://localhost:8080/"
        },
        "id": "RNcXanPzTB7u",
        "outputId": "f41cfd78-dddb-405a-bf32-e1079d7d8cf8"
      },
      "execution_count": 52,
      "outputs": [
        {
          "output_type": "execute_result",
          "data": {
            "text/plain": [
              "['tercero', 'cuarto']"
            ]
          },
          "metadata": {},
          "execution_count": 52
        }
      ]
    },
    {
      "cell_type": "code",
      "source": [
        "#Qué pasará cuando se usa un índice negativo? Ejemplo: lista[-4], lista[-3]\n",
        "lista[-4:-3]"
      ],
      "metadata": {
        "id": "_0cx4i7CVF_6",
        "colab": {
          "base_uri": "https://localhost:8080/"
        },
        "outputId": "fbc3a044-eb4e-4ab5-cfa0-26e7cf5aab16"
      },
      "execution_count": 53,
      "outputs": [
        {
          "output_type": "execute_result",
          "data": {
            "text/plain": [
              "['primero']"
            ]
          },
          "metadata": {},
          "execution_count": 53
        }
      ]
    },
    {
      "cell_type": "markdown",
      "source": [
        "#fue hacia atras sin contar el 4 y bajo 3,2,1,4,3,2,1 dando su resultado si seria en -4, -3"
      ],
      "metadata": {
        "id": "YafDBewPhH4k"
      }
    },
    {
      "cell_type": "code",
      "source": [
        "#Existe otra forma para acceder a los dos últimos elementos de la lista?. Coloque la línea de código que hace esto.\n",
        "r=2\n",
        "res = lista[-r:] \n",
        "print(\"los ultimos elementos de la lista r son : \" + str(res))\n",
        "\n"
      ],
      "metadata": {
        "id": "Eg2ZIr5DTnFJ",
        "colab": {
          "base_uri": "https://localhost:8080/"
        },
        "outputId": "a2f0d007-65c1-4e83-9d9c-0253691a7e9b"
      },
      "execution_count": 64,
      "outputs": [
        {
          "output_type": "stream",
          "name": "stdout",
          "text": [
            "los ultimos elementos de la lista r son : ['tercero', 'cuarto']\n"
          ]
        }
      ]
    },
    {
      "cell_type": "code",
      "source": [
        "#Cómo podría saberse la posición de la lista que ocupa un elemento? \n",
        "#Escriba el código que permita ingresar un elemento de la lista, e imprima la posición del elemento de la lista\n",
        "lista=[\"primero\",\"segundo\", \"tercero\", \"cuarto\"]\n",
        "lista.index(\"cuarto\")"
      ],
      "metadata": {
        "id": "AFYUJpJCQG9p",
        "colab": {
          "base_uri": "https://localhost:8080/"
        },
        "outputId": "a5ed71c7-1de5-4f79-b29e-0eec38f2a5f7"
      },
      "execution_count": 140,
      "outputs": [
        {
          "output_type": "execute_result",
          "data": {
            "text/plain": [
              "3"
            ]
          },
          "metadata": {},
          "execution_count": 140
        }
      ]
    },
    {
      "cell_type": "markdown",
      "source": [
        "###Operaciones con las listas"
      ],
      "metadata": {
        "id": "OPiv0fe4R8__"
      }
    },
    {
      "cell_type": "code",
      "source": [
        "#Crear una lista vacía\n",
        "ejemplo=[]"
      ],
      "metadata": {
        "id": "sgr461D-SAqe"
      },
      "execution_count": 84,
      "outputs": []
    },
    {
      "cell_type": "code",
      "source": [
        "#Cómo se podría crear una matriz? Ingrese el código que permita generar una matriz 2x3, siendo la primera fila \"Nombre\", \"Peso\", \"Altura\"\n",
        "#y diligencie la segunda fila con números\n",
        "#Llame a esa matriz calculo_IMC\n",
        "#Debe imprimir \n",
        "#Nombre  Peso[kg] Altura[m]\n",
        "#\"Sofía\"    57      1.65 \n",
        "\n",
        "\n",
        "\n"
      ],
      "metadata": {
        "id": "NnNEsFRbaUul"
      },
      "execution_count": null,
      "outputs": []
    },
    {
      "cell_type": "code",
      "source": [
        "#Genere una cuarta columna para la matriz IMC, que tenga como nombre IMC y calcule el índice de masa corporal. Esto es:\n",
        "#Nombre  Peso[kg] Altura[m]  IMC\n",
        "#\"Sofía\"    57      1.65     (agrege aquí el resultado del cálculo)\n",
        "\n",
        "\n",
        "\n"
      ],
      "metadata": {
        "id": "UZ_ueaXJdJsT"
      },
      "execution_count": 86,
      "outputs": []
    },
    {
      "cell_type": "code",
      "source": [
        "#Genere una quinta columna en la matriz calculo_IMC que emita una descripción obtenida del IMC. Esto es:\n",
        "#Nombre  Peso[kg] Altura[m]  IMC        Descripción\n",
        "#\"Sofía\"    57      1.65     (calculo)  (Dependiendo del IMC debe registrar peso normal, sobrepeso, obesidad tipo I, obesidad tipo II... etc.\n",
        "\n",
        "\n",
        "\n"
      ],
      "metadata": {
        "id": "cgQqg0YJffSH"
      },
      "execution_count": 87,
      "outputs": []
    },
    {
      "cell_type": "code",
      "source": [
        "#Conocer el tamaño del vector\n",
        "len(ejemplo)"
      ],
      "metadata": {
        "colab": {
          "base_uri": "https://localhost:8080/"
        },
        "id": "KZ5QnAzbaH_v",
        "outputId": "2dcc6c64-d6a9-458d-f23a-3704bd328b04"
      },
      "execution_count": 88,
      "outputs": [
        {
          "output_type": "execute_result",
          "data": {
            "text/plain": [
              "0"
            ]
          },
          "metadata": {},
          "execution_count": 88
        }
      ]
    },
    {
      "cell_type": "code",
      "source": [
        "#Llenar una lista vacía\n",
        "ejemplo.append(\"Hola\")"
      ],
      "metadata": {
        "id": "JsgmYIkuSVFj"
      },
      "execution_count": 101,
      "outputs": []
    },
    {
      "cell_type": "code",
      "source": [
        "#Una lista puede tener diferente tipo de datos!!\n",
        "ejemplo=[\"banana\",\"sandía\", 4, 5, False]\n",
        "ejemplo\n",
        "#Qué pasó con el elemento \"Hola\"?"
      ],
      "metadata": {
        "colab": {
          "base_uri": "https://localhost:8080/"
        },
        "id": "q6LTGURtY_RM",
        "outputId": "38ab9217-1367-41f8-8b03-141a308749ea"
      },
      "execution_count": 104,
      "outputs": [
        {
          "output_type": "execute_result",
          "data": {
            "text/plain": [
              "['banana', 'sandía', 4, 5, False, 'Hola']"
            ]
          },
          "metadata": {},
          "execution_count": 104
        }
      ]
    },
    {
      "cell_type": "markdown",
      "source": [
        "#para que funcione el append, necesita obligatoriamente estar debajo de la lista, si no esta NO funcionara, como en el siguiente ejemplo de abajo"
      ],
      "metadata": {
        "id": "wkd0wxIOe4em"
      }
    },
    {
      "cell_type": "code",
      "source": [
        "ejemplo=[\"banana\",\"sandía\", 4, 5, False]\n",
        "ejemplo.append(\"Hola\")\n",
        "ejemplo"
      ],
      "metadata": {
        "colab": {
          "base_uri": "https://localhost:8080/"
        },
        "id": "jqX2YisbfclF",
        "outputId": "24b2a809-6bc8-4458-cdcf-fdb0abab6244"
      },
      "execution_count": 106,
      "outputs": [
        {
          "output_type": "execute_result",
          "data": {
            "text/plain": [
              "['banana', 'sandía', 4, 5, False, 'Hola']"
            ]
          },
          "metadata": {},
          "execution_count": 106
        }
      ]
    },
    {
      "cell_type": "code",
      "source": [
        "#Eliminar un elemento de la lista\n",
        "ejemplo.remove(4)\n",
        "ejemplo"
      ],
      "metadata": {
        "colab": {
          "base_uri": "https://localhost:8080/"
        },
        "id": "p_o0X4fKZw0k",
        "outputId": "1a7e434d-bb3b-4c63-c9aa-526d577c9161"
      },
      "execution_count": 91,
      "outputs": [
        {
          "output_type": "execute_result",
          "data": {
            "text/plain": [
              "['banana', 'sandía', 5, False]"
            ]
          },
          "metadata": {},
          "execution_count": 91
        }
      ]
    },
    {
      "cell_type": "code",
      "source": [
        "#Podría explicar el error generado?\n",
        "ejemplo.remove(4)\n",
        "ejemplo"
      ],
      "metadata": {
        "colab": {
          "base_uri": "https://localhost:8080/",
          "height": 217
        },
        "id": "ODz7MJvbbh8e",
        "outputId": "e5d86b1a-a592-4762-f958-e5a2bc1e1f89"
      },
      "execution_count": 59,
      "outputs": [
        {
          "output_type": "error",
          "ename": "ValueError",
          "evalue": "ignored",
          "traceback": [
            "\u001b[0;31m---------------------------------------------------------------------------\u001b[0m",
            "\u001b[0;31mValueError\u001b[0m                                Traceback (most recent call last)",
            "\u001b[0;32m<ipython-input-59-31af0d27cfd9>\u001b[0m in \u001b[0;36m<module>\u001b[0;34m\u001b[0m\n\u001b[1;32m      1\u001b[0m \u001b[0;31m#Podría explicar el error generado?\u001b[0m\u001b[0;34m\u001b[0m\u001b[0;34m\u001b[0m\u001b[0;34m\u001b[0m\u001b[0m\n\u001b[0;32m----> 2\u001b[0;31m \u001b[0mejemplo\u001b[0m\u001b[0;34m.\u001b[0m\u001b[0mremove\u001b[0m\u001b[0;34m(\u001b[0m\u001b[0;36m4\u001b[0m\u001b[0;34m)\u001b[0m\u001b[0;34m\u001b[0m\u001b[0;34m\u001b[0m\u001b[0m\n\u001b[0m\u001b[1;32m      3\u001b[0m \u001b[0mejemplo\u001b[0m\u001b[0;34m\u001b[0m\u001b[0;34m\u001b[0m\u001b[0m\n\u001b[1;32m      4\u001b[0m \u001b[0;31m#Que la lista ejemplo es un elemento vacio por lo que no tiene ningun\u001b[0m\u001b[0;34m\u001b[0m\u001b[0;34m\u001b[0m\u001b[0;34m\u001b[0m\u001b[0m\n",
            "\u001b[0;31mValueError\u001b[0m: list.remove(x): x not in list"
          ]
        }
      ]
    },
    {
      "cell_type": "markdown",
      "source": [
        "#Que el numero 4 ya fue removido con anterioridad, por lo que no puede eliminar una variable que no existe"
      ],
      "metadata": {
        "id": "GSNUkEQ_dyhf"
      }
    },
    {
      "cell_type": "code",
      "source": [
        "#Podría explicar el resultado de este método? \n",
        "del ejemplo[2]\n",
        "ejemplo"
      ],
      "metadata": {
        "colab": {
          "base_uri": "https://localhost:8080/"
        },
        "id": "lhRUkQOEcWHu",
        "outputId": "cecc8fca-5915-4699-efae-dfa0e6b61322"
      },
      "execution_count": 93,
      "outputs": [
        {
          "output_type": "execute_result",
          "data": {
            "text/plain": [
              "['banana', 'sandía']"
            ]
          },
          "metadata": {},
          "execution_count": 93
        }
      ]
    },
    {
      "cell_type": "markdown",
      "source": [
        "#toma las dos primeros ya que la funcion del elimina el espacio del rango y imprime comun y corriente la lista contando los numeros sin empezar en 0, en este caso empezaria en 1 hasta dos contando el dos"
      ],
      "metadata": {
        "id": "0bjB0Tc_b78b"
      }
    },
    {
      "cell_type": "markdown",
      "source": [
        "### EJERCICIO PARA ELIMINAR UN QUEST OBLIGATORIO ☝\n",
        "\n",
        "![Texto alternativo](https://cdn.memegenerator.es/imagenes/memes/full/28/50/28507442.jpg)\n",
        "\n",
        "Realiza el ejercicio propuesto de forma correcta antes de que acabe el tiempo, y hazte acreedor@ de eliminar un quest obligatorio ✨"
      ],
      "metadata": {
        "id": "hmS_3bTvgCph"
      }
    },
    {
      "cell_type": "code",
      "source": [
        "# Revise la página https://www.researchgate.net/publication/273298847_Piedra_Papel_Tijera_y_sus_generalizaciones\n",
        "#Programe Piedra, papel, tijera, spock, lagarto, Papa y heavy usando arreglos."
      ],
      "metadata": {
        "id": "p0SGwGpNgBaz"
      },
      "execution_count": null,
      "outputs": []
    }
  ]
}