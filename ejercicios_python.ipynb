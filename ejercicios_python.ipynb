{
  "nbformat": 4,
  "nbformat_minor": 0,
  "metadata": {
    "colab": {
      "name": "ejercicios python",
      "provenance": []
    },
    "kernelspec": {
      "name": "python3",
      "display_name": "Python 3"
    },
    "language_info": {
      "name": "python"
    }
  },
  "cells": [
    {
      "cell_type": "markdown",
      "source": [
        "#ejercicios en clase"
      ],
      "metadata": {
        "id": "Y_sx8JeXU-iO"
      }
    },
    {
      "cell_type": "markdown",
      "source": [
        "###1. indicar si un número N es un número primo(siendo N un número que se lee)"
      ],
      "metadata": {
        "id": "hqQ1DQEAVL8O"
      }
    },
    {
      "cell_type": "code",
      "source": [
        ""
      ],
      "metadata": {
        "id": "QSQnnUwTVfDN"
      },
      "execution_count": null,
      "outputs": []
    },
    {
      "cell_type": "markdown",
      "source": [
        "###2. imprimir los 30 primeros numeros de fibonacci"
      ],
      "metadata": {
        "id": "fuOC47MyVhy8"
      }
    },
    {
      "cell_type": "code",
      "source": [
        "n1=0\n",
        "n2=1\n",
        "for i in range(1,31):\n",
        "  print(n1+n2,i,n1+n2*i)"
      ],
      "metadata": {
        "id": "tRfbfRP3cDXG"
      },
      "execution_count": null,
      "outputs": []
    },
    {
      "cell_type": "code",
      "source": [
        "n=int(input(\"ingrese la tabla que desee calcular\"))\n",
        "\n",
        "for i in range(1,11):\n",
        "  print(n,\"x\",i,\"=\",n*i)\n",
        "  if n>=11:\n",
        "    print(\"error, ingrese solo numeros en el rango 1 al 10\")\n",
        "    break"
      ],
      "metadata": {
        "colab": {
          "base_uri": "https://localhost:8080/"
        },
        "id": "vnHukr6IW2Yb",
        "outputId": "b315f99a-a4a3-428f-f25a-4b5a78ccba7e"
      },
      "execution_count": 43,
      "outputs": [
        {
          "output_type": "stream",
          "name": "stdout",
          "text": [
            "ingrese la tabla que desee calcular11\n",
            "11 x 1 = 11\n",
            "error, ingrese solo numeros en el rango 1 al 10\n"
          ]
        }
      ]
    }
  ]
}